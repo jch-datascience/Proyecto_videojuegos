{
  "cells": [
    {
      "cell_type": "markdown",
      "metadata": {
        "id": "c89C27VDVjl6"
      },
      "source": [
        "\n",
        "\n",
        "Por medio del siguiente proyecto identificaremos los patrones que determinan si un juego tiene éxito o no, Esto nos permitirá detectar proyectos prometedores y planificar campañas publicitarias. Esto lo haremos por información otorgada por la tienda online *Ice*, como las reseñas de usuarios y expertos, los géneros, las plataformas (por ejemplo, Xbox o PlayStation) y los datos históricos sobre las ventas de juegos. Este análisis es importante, ya que nos entregará información para poder invertir o realizar una asesoría de inversión para el año 2017."
      ]
    },
    {
      "cell_type": "markdown",
      "metadata": {
        "id": "8n3IifKXVjl7"
      },
      "source": [
        "### Tabla de contenidos\n",
        " - **1. Abrimos el archivo de datos y estudiamos la información general**\n",
        "  - Cargamos las librerías\n",
        "  - Cargamos los datos\n",
        " - **2. Preparamos los datos**\n",
        "  - Corregimos formatos de nombres de columnas\n",
        "  - Abordamos valores ausentes\n",
        "  - Cambiamos los formatos de las columnas a los tipos necesarios\n",
        "  - Calculamos las ventas totales\n",
        " - **3. Analisis de los datos**\n",
        "  - Revisamos cuántos juegos fueron lanzados en diferentes años\n",
        "  - Observamos cómo varían las ventas entre las plataformas\n",
        "  - Ahora determinaremos para qué periodo tomaremos datos\n",
        "  - Filtramos la tabla a partir del año seleccionado\n",
        "  - ¿Qué plataformas son líderes en ventas?\n",
        "  - Creamos un diagrama de caja para las ventas globales de todos los juegos, desglosados por plataforma\n",
        "  - Ahora veremos cómo las reseñas de usuarios y profesionales afectan las ventas de una plataforma popular\n",
        "  - Comparamos las ventas de los mismos juegos en otras plataformas\n",
        " - **4. Creamos un perfil de usuario para cada región**\n",
        "  - Comenzaremos determinando las cinco plataformas principales para cada región y describiremos las variaciones en sus cuotas de mercado de una región a otra\n",
        "  - Ahora veremos los cinco géneros principales por región\n",
        "  - Ahora veremos si las clasificaciones de ESRB afectan a las ventas\n",
        " - **5. Probamos las hipótesis**\n",
        "  - Prueba 1\n",
        "  - Prueba 2\n",
        " - **6. Conclusión general**"
      ]
    },
    {
      "cell_type": "markdown",
      "metadata": {
        "id": "-_o1RCOmVjl7"
      },
      "source": [
        "# Abrimos el archivo de datos y estudiamos la información general"
      ]
    },
    {
      "cell_type": "markdown",
      "metadata": {
        "id": "-NynBZjaVjl8"
      },
      "source": [
        "### Cargamos las librerías"
      ]
    },
    {
      "cell_type": "code",
      "execution_count": null,
      "metadata": {
        "id": "4HSu-aa1Vjl8"
      },
      "outputs": [],
      "source": [
        "# Cargar todas las librerías\n",
        "import pandas as pd\n",
        "import numpy as np\n",
        "import matplotlib.pyplot as plt\n",
        "import seaborn as sns\n",
        "from scipy import stats as st\n",
        "from scipy.stats import ttest_ind\n",
        "import math"
      ]
    },
    {
      "cell_type": "markdown",
      "metadata": {
        "id": "xFi0iiHzVjl9"
      },
      "source": [
        "### Cargamos los datos"
      ]
    },
    {
      "cell_type": "code",
      "execution_count": null,
      "metadata": {
        "id": "Cey83SB5Vjl9"
      },
      "outputs": [],
      "source": [
        "# Cargamos el DataFrame\n",
        "ice = pd.read_csv('/datasets/games.csv')"
      ]
    },
    {
      "cell_type": "markdown",
      "metadata": {
        "id": "QZoJ9MWpVjl9"
      },
      "source": [
        "En esta sección exploraremos nuestro DataFrame."
      ]
    },
    {
      "cell_type": "code",
      "execution_count": null,
      "metadata": {
        "id": "Oku1Sq3bVjl9",
        "outputId": "d4993fc0-380e-4539-e80d-577fea0493fe"
      },
      "outputs": [
        {
          "data": {
            "text/html": [
              "<div>\n",
              "<style scoped>\n",
              "    .dataframe tbody tr th:only-of-type {\n",
              "        vertical-align: middle;\n",
              "    }\n",
              "\n",
              "    .dataframe tbody tr th {\n",
              "        vertical-align: top;\n",
              "    }\n",
              "\n",
              "    .dataframe thead th {\n",
              "        text-align: right;\n",
              "    }\n",
              "</style>\n",
              "<table border=\"1\" class=\"dataframe\">\n",
              "  <thead>\n",
              "    <tr style=\"text-align: right;\">\n",
              "      <th></th>\n",
              "      <th>Name</th>\n",
              "      <th>Platform</th>\n",
              "      <th>Year_of_Release</th>\n",
              "      <th>Genre</th>\n",
              "      <th>NA_sales</th>\n",
              "      <th>EU_sales</th>\n",
              "      <th>JP_sales</th>\n",
              "      <th>Other_sales</th>\n",
              "      <th>Critic_Score</th>\n",
              "      <th>User_Score</th>\n",
              "      <th>Rating</th>\n",
              "    </tr>\n",
              "  </thead>\n",
              "  <tbody>\n",
              "    <tr>\n",
              "      <th>0</th>\n",
              "      <td>Wii Sports</td>\n",
              "      <td>Wii</td>\n",
              "      <td>2006.0</td>\n",
              "      <td>Sports</td>\n",
              "      <td>41.36</td>\n",
              "      <td>28.96</td>\n",
              "      <td>3.77</td>\n",
              "      <td>8.45</td>\n",
              "      <td>76.0</td>\n",
              "      <td>8</td>\n",
              "      <td>E</td>\n",
              "    </tr>\n",
              "    <tr>\n",
              "      <th>1</th>\n",
              "      <td>Super Mario Bros.</td>\n",
              "      <td>NES</td>\n",
              "      <td>1985.0</td>\n",
              "      <td>Platform</td>\n",
              "      <td>29.08</td>\n",
              "      <td>3.58</td>\n",
              "      <td>6.81</td>\n",
              "      <td>0.77</td>\n",
              "      <td>NaN</td>\n",
              "      <td>NaN</td>\n",
              "      <td>NaN</td>\n",
              "    </tr>\n",
              "    <tr>\n",
              "      <th>2</th>\n",
              "      <td>Mario Kart Wii</td>\n",
              "      <td>Wii</td>\n",
              "      <td>2008.0</td>\n",
              "      <td>Racing</td>\n",
              "      <td>15.68</td>\n",
              "      <td>12.76</td>\n",
              "      <td>3.79</td>\n",
              "      <td>3.29</td>\n",
              "      <td>82.0</td>\n",
              "      <td>8.3</td>\n",
              "      <td>E</td>\n",
              "    </tr>\n",
              "    <tr>\n",
              "      <th>3</th>\n",
              "      <td>Wii Sports Resort</td>\n",
              "      <td>Wii</td>\n",
              "      <td>2009.0</td>\n",
              "      <td>Sports</td>\n",
              "      <td>15.61</td>\n",
              "      <td>10.93</td>\n",
              "      <td>3.28</td>\n",
              "      <td>2.95</td>\n",
              "      <td>80.0</td>\n",
              "      <td>8</td>\n",
              "      <td>E</td>\n",
              "    </tr>\n",
              "    <tr>\n",
              "      <th>4</th>\n",
              "      <td>Pokemon Red/Pokemon Blue</td>\n",
              "      <td>GB</td>\n",
              "      <td>1996.0</td>\n",
              "      <td>Role-Playing</td>\n",
              "      <td>11.27</td>\n",
              "      <td>8.89</td>\n",
              "      <td>10.22</td>\n",
              "      <td>1.00</td>\n",
              "      <td>NaN</td>\n",
              "      <td>NaN</td>\n",
              "      <td>NaN</td>\n",
              "    </tr>\n",
              "    <tr>\n",
              "      <th>5</th>\n",
              "      <td>Tetris</td>\n",
              "      <td>GB</td>\n",
              "      <td>1989.0</td>\n",
              "      <td>Puzzle</td>\n",
              "      <td>23.20</td>\n",
              "      <td>2.26</td>\n",
              "      <td>4.22</td>\n",
              "      <td>0.58</td>\n",
              "      <td>NaN</td>\n",
              "      <td>NaN</td>\n",
              "      <td>NaN</td>\n",
              "    </tr>\n",
              "    <tr>\n",
              "      <th>6</th>\n",
              "      <td>New Super Mario Bros.</td>\n",
              "      <td>DS</td>\n",
              "      <td>2006.0</td>\n",
              "      <td>Platform</td>\n",
              "      <td>11.28</td>\n",
              "      <td>9.14</td>\n",
              "      <td>6.50</td>\n",
              "      <td>2.88</td>\n",
              "      <td>89.0</td>\n",
              "      <td>8.5</td>\n",
              "      <td>E</td>\n",
              "    </tr>\n",
              "    <tr>\n",
              "      <th>7</th>\n",
              "      <td>Wii Play</td>\n",
              "      <td>Wii</td>\n",
              "      <td>2006.0</td>\n",
              "      <td>Misc</td>\n",
              "      <td>13.96</td>\n",
              "      <td>9.18</td>\n",
              "      <td>2.93</td>\n",
              "      <td>2.84</td>\n",
              "      <td>58.0</td>\n",
              "      <td>6.6</td>\n",
              "      <td>E</td>\n",
              "    </tr>\n",
              "    <tr>\n",
              "      <th>8</th>\n",
              "      <td>New Super Mario Bros. Wii</td>\n",
              "      <td>Wii</td>\n",
              "      <td>2009.0</td>\n",
              "      <td>Platform</td>\n",
              "      <td>14.44</td>\n",
              "      <td>6.94</td>\n",
              "      <td>4.70</td>\n",
              "      <td>2.24</td>\n",
              "      <td>87.0</td>\n",
              "      <td>8.4</td>\n",
              "      <td>E</td>\n",
              "    </tr>\n",
              "    <tr>\n",
              "      <th>9</th>\n",
              "      <td>Duck Hunt</td>\n",
              "      <td>NES</td>\n",
              "      <td>1984.0</td>\n",
              "      <td>Shooter</td>\n",
              "      <td>26.93</td>\n",
              "      <td>0.63</td>\n",
              "      <td>0.28</td>\n",
              "      <td>0.47</td>\n",
              "      <td>NaN</td>\n",
              "      <td>NaN</td>\n",
              "      <td>NaN</td>\n",
              "    </tr>\n",
              "  </tbody>\n",
              "</table>\n",
              "</div>"
            ],
            "text/plain": [
              "                        Name Platform  Year_of_Release         Genre  \\\n",
              "0                 Wii Sports      Wii           2006.0        Sports   \n",
              "1          Super Mario Bros.      NES           1985.0      Platform   \n",
              "2             Mario Kart Wii      Wii           2008.0        Racing   \n",
              "3          Wii Sports Resort      Wii           2009.0        Sports   \n",
              "4   Pokemon Red/Pokemon Blue       GB           1996.0  Role-Playing   \n",
              "5                     Tetris       GB           1989.0        Puzzle   \n",
              "6      New Super Mario Bros.       DS           2006.0      Platform   \n",
              "7                   Wii Play      Wii           2006.0          Misc   \n",
              "8  New Super Mario Bros. Wii      Wii           2009.0      Platform   \n",
              "9                  Duck Hunt      NES           1984.0       Shooter   \n",
              "\n",
              "   NA_sales  EU_sales  JP_sales  Other_sales  Critic_Score User_Score Rating  \n",
              "0     41.36     28.96      3.77         8.45          76.0          8      E  \n",
              "1     29.08      3.58      6.81         0.77           NaN        NaN    NaN  \n",
              "2     15.68     12.76      3.79         3.29          82.0        8.3      E  \n",
              "3     15.61     10.93      3.28         2.95          80.0          8      E  \n",
              "4     11.27      8.89     10.22         1.00           NaN        NaN    NaN  \n",
              "5     23.20      2.26      4.22         0.58           NaN        NaN    NaN  \n",
              "6     11.28      9.14      6.50         2.88          89.0        8.5      E  \n",
              "7     13.96      9.18      2.93         2.84          58.0        6.6      E  \n",
              "8     14.44      6.94      4.70         2.24          87.0        8.4      E  \n",
              "9     26.93      0.63      0.28         0.47           NaN        NaN    NaN  "
            ]
          },
          "execution_count": 3,
          "metadata": {},
          "output_type": "execute_result"
        }
      ],
      "source": [
        "# Reviamosa el dataFrame\n",
        "ice.head(10)"
      ]
    },
    {
      "cell_type": "code",
      "execution_count": null,
      "metadata": {
        "id": "IOCi08MvVjl-",
        "outputId": "599a3932-8a66-42c2-a61f-1f09d43be73c"
      },
      "outputs": [
        {
          "name": "stdout",
          "output_type": "stream",
          "text": [
            "<class 'pandas.core.frame.DataFrame'>\n",
            "RangeIndex: 16715 entries, 0 to 16714\n",
            "Data columns (total 11 columns):\n",
            " #   Column           Non-Null Count  Dtype  \n",
            "---  ------           --------------  -----  \n",
            " 0   Name             16713 non-null  object \n",
            " 1   Platform         16715 non-null  object \n",
            " 2   Year_of_Release  16446 non-null  float64\n",
            " 3   Genre            16713 non-null  object \n",
            " 4   NA_sales         16715 non-null  float64\n",
            " 5   EU_sales         16715 non-null  float64\n",
            " 6   JP_sales         16715 non-null  float64\n",
            " 7   Other_sales      16715 non-null  float64\n",
            " 8   Critic_Score     8137 non-null   float64\n",
            " 9   User_Score       10014 non-null  object \n",
            " 10  Rating           9949 non-null   object \n",
            "dtypes: float64(6), object(5)\n",
            "memory usage: 1.4+ MB\n",
            "None\n",
            "\n",
            "(16715, 11)\n"
          ]
        }
      ],
      "source": [
        "# Revisamos su información general\n",
        "print(ice.info())\n",
        "print()\n",
        "print(ice.shape)"
      ]
    },
    {
      "cell_type": "code",
      "execution_count": null,
      "metadata": {
        "id": "hRPjB_IVVjl-",
        "outputId": "ce35e54d-0c60-48c3-c638-b26e0e775dfb"
      },
      "outputs": [
        {
          "data": {
            "text/html": [
              "<div>\n",
              "<style scoped>\n",
              "    .dataframe tbody tr th:only-of-type {\n",
              "        vertical-align: middle;\n",
              "    }\n",
              "\n",
              "    .dataframe tbody tr th {\n",
              "        vertical-align: top;\n",
              "    }\n",
              "\n",
              "    .dataframe thead th {\n",
              "        text-align: right;\n",
              "    }\n",
              "</style>\n",
              "<table border=\"1\" class=\"dataframe\">\n",
              "  <thead>\n",
              "    <tr style=\"text-align: right;\">\n",
              "      <th></th>\n",
              "      <th>Year_of_Release</th>\n",
              "      <th>NA_sales</th>\n",
              "      <th>EU_sales</th>\n",
              "      <th>JP_sales</th>\n",
              "      <th>Other_sales</th>\n",
              "      <th>Critic_Score</th>\n",
              "    </tr>\n",
              "  </thead>\n",
              "  <tbody>\n",
              "    <tr>\n",
              "      <th>count</th>\n",
              "      <td>16446.000000</td>\n",
              "      <td>16715.000000</td>\n",
              "      <td>16715.000000</td>\n",
              "      <td>16715.000000</td>\n",
              "      <td>16715.000000</td>\n",
              "      <td>8137.000000</td>\n",
              "    </tr>\n",
              "    <tr>\n",
              "      <th>mean</th>\n",
              "      <td>2006.484616</td>\n",
              "      <td>0.263377</td>\n",
              "      <td>0.145060</td>\n",
              "      <td>0.077617</td>\n",
              "      <td>0.047342</td>\n",
              "      <td>68.967679</td>\n",
              "    </tr>\n",
              "    <tr>\n",
              "      <th>std</th>\n",
              "      <td>5.877050</td>\n",
              "      <td>0.813604</td>\n",
              "      <td>0.503339</td>\n",
              "      <td>0.308853</td>\n",
              "      <td>0.186731</td>\n",
              "      <td>13.938165</td>\n",
              "    </tr>\n",
              "    <tr>\n",
              "      <th>min</th>\n",
              "      <td>1980.000000</td>\n",
              "      <td>0.000000</td>\n",
              "      <td>0.000000</td>\n",
              "      <td>0.000000</td>\n",
              "      <td>0.000000</td>\n",
              "      <td>13.000000</td>\n",
              "    </tr>\n",
              "    <tr>\n",
              "      <th>25%</th>\n",
              "      <td>2003.000000</td>\n",
              "      <td>0.000000</td>\n",
              "      <td>0.000000</td>\n",
              "      <td>0.000000</td>\n",
              "      <td>0.000000</td>\n",
              "      <td>60.000000</td>\n",
              "    </tr>\n",
              "    <tr>\n",
              "      <th>50%</th>\n",
              "      <td>2007.000000</td>\n",
              "      <td>0.080000</td>\n",
              "      <td>0.020000</td>\n",
              "      <td>0.000000</td>\n",
              "      <td>0.010000</td>\n",
              "      <td>71.000000</td>\n",
              "    </tr>\n",
              "    <tr>\n",
              "      <th>75%</th>\n",
              "      <td>2010.000000</td>\n",
              "      <td>0.240000</td>\n",
              "      <td>0.110000</td>\n",
              "      <td>0.040000</td>\n",
              "      <td>0.030000</td>\n",
              "      <td>79.000000</td>\n",
              "    </tr>\n",
              "    <tr>\n",
              "      <th>max</th>\n",
              "      <td>2016.000000</td>\n",
              "      <td>41.360000</td>\n",
              "      <td>28.960000</td>\n",
              "      <td>10.220000</td>\n",
              "      <td>10.570000</td>\n",
              "      <td>98.000000</td>\n",
              "    </tr>\n",
              "  </tbody>\n",
              "</table>\n",
              "</div>"
            ],
            "text/plain": [
              "       Year_of_Release      NA_sales      EU_sales      JP_sales  \\\n",
              "count     16446.000000  16715.000000  16715.000000  16715.000000   \n",
              "mean       2006.484616      0.263377      0.145060      0.077617   \n",
              "std           5.877050      0.813604      0.503339      0.308853   \n",
              "min        1980.000000      0.000000      0.000000      0.000000   \n",
              "25%        2003.000000      0.000000      0.000000      0.000000   \n",
              "50%        2007.000000      0.080000      0.020000      0.000000   \n",
              "75%        2010.000000      0.240000      0.110000      0.040000   \n",
              "max        2016.000000     41.360000     28.960000     10.220000   \n",
              "\n",
              "        Other_sales  Critic_Score  \n",
              "count  16715.000000   8137.000000  \n",
              "mean       0.047342     68.967679  \n",
              "std        0.186731     13.938165  \n",
              "min        0.000000     13.000000  \n",
              "25%        0.000000     60.000000  \n",
              "50%        0.010000     71.000000  \n",
              "75%        0.030000     79.000000  \n",
              "max       10.570000     98.000000  "
            ]
          },
          "execution_count": 5,
          "metadata": {},
          "output_type": "execute_result"
        }
      ],
      "source": [
        "# Revisamos su distribución\n",
        "ice.describe()"
      ]
    },
    {
      "cell_type": "code",
      "execution_count": null,
      "metadata": {
        "scrolled": true,
        "id": "-p_UoUIdVjl-",
        "outputId": "166a3996-f0ac-4643-f5f7-7fe023171ff5"
      },
      "outputs": [
        {
          "data": {
            "text/plain": [
              "Index(['Name', 'Platform', 'Year_of_Release', 'Genre', 'NA_sales', 'EU_sales',\n",
              "       'JP_sales', 'Other_sales', 'Critic_Score', 'User_Score', 'Rating'],\n",
              "      dtype='object')"
            ]
          },
          "execution_count": 6,
          "metadata": {},
          "output_type": "execute_result"
        }
      ],
      "source": [
        "# Revisamos los nombres de las columnas para ver qué corregir\n",
        "ice.columns"
      ]
    },
    {
      "cell_type": "code",
      "execution_count": null,
      "metadata": {
        "id": "BlB8YtSaVjl_",
        "outputId": "eded3048-67ec-495e-ac8d-32b2ec932854"
      },
      "outputs": [
        {
          "data": {
            "text/plain": [
              "0"
            ]
          },
          "execution_count": 7,
          "metadata": {},
          "output_type": "execute_result"
        }
      ],
      "source": [
        "# Revisamos si hay datos duplicados\n",
        "ice.duplicated().sum()"
      ]
    },
    {
      "cell_type": "code",
      "execution_count": null,
      "metadata": {
        "scrolled": true,
        "id": "7vtiWiYtVjl_",
        "outputId": "32c2c6ef-3e2a-42ad-e556-71cc7b4ccfbb"
      },
      "outputs": [
        {
          "data": {
            "text/plain": [
              "Name                  2\n",
              "Platform              0\n",
              "Year_of_Release     269\n",
              "Genre                 2\n",
              "NA_sales              0\n",
              "EU_sales              0\n",
              "JP_sales              0\n",
              "Other_sales           0\n",
              "Critic_Score       8578\n",
              "User_Score         6701\n",
              "Rating             6766\n",
              "dtype: int64"
            ]
          },
          "execution_count": 8,
          "metadata": {},
          "output_type": "execute_result"
        }
      ],
      "source": [
        "# Revisamos la cantidad de valores ausentes por columna\n",
        "ice.isna().sum()"
      ]
    },
    {
      "cell_type": "code",
      "execution_count": null,
      "metadata": {
        "id": "UxEScC9hVjl_"
      },
      "outputs": [],
      "source": [
        "# Calculamos porcentaje de valores ausentes\n",
        "nameisna = ice.Name.isna().sum() / len(ice.Name) * 100\n",
        "releaseyearisna = ice.Year_of_Release.isna().sum() / len(ice.Year_of_Release) * 100\n",
        "genreisna = ice.Genre.isna().sum() / len(ice.Genre) * 100\n",
        "criticisna = ice.Critic_Score.isna().sum() / len(ice.Critic_Score) * 100\n",
        "userisna = ice.User_Score.isna().sum() / len(ice.User_Score) * 100\n",
        "ratingisna = ice.Rating.isna().sum() / len(ice.Rating) * 100\n"
      ]
    },
    {
      "cell_type": "code",
      "execution_count": null,
      "metadata": {
        "scrolled": true,
        "id": "JjrVfshhVjl_",
        "outputId": "3f95f96f-bd31-46ff-e423-d0814c9d3769"
      },
      "outputs": [
        {
          "name": "stdout",
          "output_type": "stream",
          "text": [
            "Porcentaje de 'NaN' en 'Name': 0.011965300628178284%\n",
            "Porcentaje de 'NaN' en 'Year_of_Release': 1.609332934489979%\n",
            "Porcentaje de 'NaN' en 'Genre': 0.011965300628178284%\n",
            "Porcentaje de 'NaN' en 'Critic_Score': 51.31917439425665%\n",
            "Porcentaje de 'NaN' en 'User_Score': 40.08973975471134%\n",
            "Porcentaje de 'NaN' en 'Rating': 40.478612025127134%\n"
          ]
        }
      ],
      "source": [
        "# Mostramos los porcentajes de valores ausentes\n",
        "print(f\"Porcentaje de 'NaN' en 'Name': {nameisna}%\")\n",
        "print(f\"Porcentaje de 'NaN' en 'Year_of_Release': {releaseyearisna}%\")\n",
        "print(f\"Porcentaje de 'NaN' en 'Genre': {genreisna}%\")\n",
        "print(f\"Porcentaje de 'NaN' en 'Critic_Score': {criticisna}%\")\n",
        "print(f\"Porcentaje de 'NaN' en 'User_Score': {userisna}%\")\n",
        "print(f\"Porcentaje de 'NaN' en 'Rating': {ratingisna}%\")"
      ]
    },
    {
      "cell_type": "code",
      "execution_count": null,
      "metadata": {
        "id": "43EI7sqEVjl_",
        "outputId": "9cd63b39-b790-4d5d-8463-11d90d17ec26"
      },
      "outputs": [
        {
          "data": {
            "text/plain": [
              "array(['8', nan, '8.3', '8.5', '6.6', '8.4', '8.6', '7.7', '6.3', '7.4',\n",
              "       '8.2', '9', '7.9', '8.1', '8.7', '7.1', '3.4', '5.3', '4.8', '3.2',\n",
              "       '8.9', '6.4', '7.8', '7.5', '2.6', '7.2', '9.2', '7', '7.3', '4.3',\n",
              "       '7.6', '5.7', '5', '9.1', '6.5', 'tbd', '8.8', '6.9', '9.4', '6.8',\n",
              "       '6.1', '6.7', '5.4', '4', '4.9', '4.5', '9.3', '6.2', '4.2', '6',\n",
              "       '3.7', '4.1', '5.8', '5.6', '5.5', '4.4', '4.6', '5.9', '3.9',\n",
              "       '3.1', '2.9', '5.2', '3.3', '4.7', '5.1', '3.5', '2.5', '1.9', '3',\n",
              "       '2.7', '2.2', '2', '9.5', '2.1', '3.6', '2.8', '1.8', '3.8', '0',\n",
              "       '1.6', '9.6', '2.4', '1.7', '1.1', '0.3', '1.5', '0.7', '1.2',\n",
              "       '2.3', '0.5', '1.3', '0.2', '0.6', '1.4', '0.9', '1', '9.7'],\n",
              "      dtype=object)"
            ]
          },
          "execution_count": 11,
          "metadata": {},
          "output_type": "execute_result"
        }
      ],
      "source": [
        "# Además veremos por qué la columna 'User_Score' está en tipo object\n",
        "ice.User_Score.unique()"
      ]
    },
    {
      "cell_type": "code",
      "execution_count": null,
      "metadata": {
        "id": "Oy9dQ62TVjmD",
        "outputId": "6658ab78-f2d4-4393-cd73-6306add9bf7a"
      },
      "outputs": [
        {
          "data": {
            "text/plain": [
              "tbd    2424\n",
              "7.8     324\n",
              "8       290\n",
              "8.2     282\n",
              "8.3     254\n",
              "       ... \n",
              "0.2       2\n",
              "1         2\n",
              "1.5       2\n",
              "0         1\n",
              "9.7       1\n",
              "Name: User_Score, Length: 96, dtype: int64"
            ]
          },
          "execution_count": 12,
          "metadata": {},
          "output_type": "execute_result"
        }
      ],
      "source": [
        "ice.User_Score.value_counts()"
      ]
    },
    {
      "cell_type": "markdown",
      "metadata": {
        "id": "kG7zt-aXVjmD"
      },
      "source": [
        "Al analizar **User_Score** podemos ver que hay números en formato string mezclados con valores **'tbd', siglas para 'To Be Determined'**. Buscaremos abordar los 'tbd' de modo de poder dejar la columna en float64, con el fin de hacer cálculos sin problemas."
      ]
    },
    {
      "cell_type": "markdown",
      "metadata": {
        "id": "uI3KtmZsVjmE"
      },
      "source": [
        "Al analizar el DataFrame **'ice'** encontramos lo siguiente\n",
        "\n",
        " - 1. El DataFrame **ice** se compone de 16.715 filas y 11 columnas.\n",
        " - 2. Los nombres de las columnas tienen mayúsculas. **Dejaremos todo en minúsculas**.\n",
        " - 3. Al revisar los 'NaN', pudimos ver que las columnas **Name**, **Year_of_Release**, **Genre**, **Critic_Score**, **User_Score** y **Rating** tienen valores ausentes, **que veremos cómo abordar más adelante**.\n",
        " - 4. No encotramos valores duplicados.\n",
        " - 5. Sobre los formatos de las columnas:\n",
        "  - La columna 'Year_of_Release' la cambiaremos de float64 a int64.\n",
        "  - La columna 'User_Score' está en tipo object y contiene valores 'tbd' que abordaremos más adelante. Además es de tipo object, la dejaremos en tipo float64.\n",
        "  - Las demás columnas están en un formato correcto."
      ]
    },
    {
      "cell_type": "markdown",
      "metadata": {
        "id": "ddU7zx3zVjmE"
      },
      "source": [
        "# Preparamos los datos"
      ]
    },
    {
      "cell_type": "markdown",
      "metadata": {
        "id": "ZjlHQOszVjmE"
      },
      "source": [
        "### Corregimos formatos de nombres de columnas"
      ]
    },
    {
      "cell_type": "markdown",
      "metadata": {
        "id": "7Nok5_MhVjmE"
      },
      "source": [
        "Comenzaremos abordando los nombres de las columnas."
      ]
    },
    {
      "cell_type": "code",
      "execution_count": null,
      "metadata": {
        "scrolled": true,
        "id": "2lKTCO--VjmE"
      },
      "outputs": [],
      "source": [
        "# Dejamos los nombres de las columnas en minúsculas\n",
        "ice.columns = ice.columns.str.lower()"
      ]
    },
    {
      "cell_type": "code",
      "execution_count": null,
      "metadata": {
        "id": "QNhDRM_7VjmF",
        "outputId": "b710a527-7cd3-4116-93af-73e36acfaab1"
      },
      "outputs": [
        {
          "data": {
            "text/plain": [
              "Index(['name', 'platform', 'year_of_release', 'genre', 'na_sales', 'eu_sales',\n",
              "       'jp_sales', 'other_sales', 'critic_score', 'user_score', 'rating'],\n",
              "      dtype='object')"
            ]
          },
          "execution_count": 14,
          "metadata": {},
          "output_type": "execute_result"
        }
      ],
      "source": [
        "# Revisamos los cambios\n",
        "ice.columns"
      ]
    },
    {
      "cell_type": "markdown",
      "metadata": {
        "id": "4pQNOW2tVjmF"
      },
      "source": [
        "### Abordamos valores ausentes"
      ]
    },
    {
      "cell_type": "markdown",
      "metadata": {
        "id": "Hs16zkICVjmF"
      },
      "source": [
        "Ahora abordaremos los valores ausentes. Para este caso buscaremos cómo imputar los valores de todas las columnas que tengan 'NaN' de modo que no queden titulos importantes de juegos fuera de la tabla.\n",
        "\n",
        "Cabe mencionar que para la columna **'name'**, quitaremos las filas sin esta información, ya que es primaria y sin ella no nos sirven los demás datos. Este volumen es pequeño y no afectará nuestro análisis.\n",
        "\n",
        "Para el caso de **'genre'** imputaremos los valores nulos con 'unknown', ya que no tenemos forma de saber de qué géneros se trata. Además esto no alterará nuestros resultados ya que solo se trata de un 0.01% del volumen de la columna.\n",
        "\n",
        "Por otra parte cabe mencionar que es posible que no estén los nombres de estos juegos debido a algún error de sistema, ya que esta información es bastante primaria y básica dentro de esta tabla. Para la columna 'genre' también pensamos que los valores no están debido a errores técnicos.\n",
        "\n",
        "Comenzaremos abordando las columnas **name y genre**."
      ]
    },
    {
      "cell_type": "code",
      "execution_count": null,
      "metadata": {
        "id": "BTq3gfiqVjmF"
      },
      "outputs": [],
      "source": [
        "# Abordamos la columna 'name'\n",
        "ice = ice.dropna(subset=['name'])"
      ]
    },
    {
      "cell_type": "code",
      "execution_count": null,
      "metadata": {
        "id": "5BBnzbIFVjmF"
      },
      "outputs": [],
      "source": [
        "# Abordamos la columna 'genre'\n",
        "ice['genre'].fillna('unknown', inplace=True)"
      ]
    },
    {
      "cell_type": "code",
      "execution_count": null,
      "metadata": {
        "id": "n9xpctXLVjmG",
        "outputId": "29a2e82f-4f01-4b56-c16d-a38e345e96a0"
      },
      "outputs": [
        {
          "name": "stdout",
          "output_type": "stream",
          "text": [
            "<class 'pandas.core.frame.DataFrame'>\n",
            "Int64Index: 16713 entries, 0 to 16714\n",
            "Data columns (total 11 columns):\n",
            " #   Column           Non-Null Count  Dtype  \n",
            "---  ------           --------------  -----  \n",
            " 0   name             16713 non-null  object \n",
            " 1   platform         16713 non-null  object \n",
            " 2   year_of_release  16444 non-null  float64\n",
            " 3   genre            16713 non-null  object \n",
            " 4   na_sales         16713 non-null  float64\n",
            " 5   eu_sales         16713 non-null  float64\n",
            " 6   jp_sales         16713 non-null  float64\n",
            " 7   other_sales      16713 non-null  float64\n",
            " 8   critic_score     8137 non-null   float64\n",
            " 9   user_score       10014 non-null  object \n",
            " 10  rating           9949 non-null   object \n",
            "dtypes: float64(6), object(5)\n",
            "memory usage: 1.5+ MB\n"
          ]
        }
      ],
      "source": [
        "# Vemos que esté todo bien\n",
        "ice.info()"
      ]
    },
    {
      "cell_type": "markdown",
      "metadata": {
        "id": "cDfSHuGqVjmG"
      },
      "source": [
        "Ahora abordaremos los valores ausentes de la columna **rating**. Esta columna tiene una alto porcentaje de valores ausentes (40%). Para imputar los valores ausentes de **rating** utilizaremos la columna **genre**, ya que es información que está estrechamente relacionada. De este modo, rellenaremos la columna **rating** en función a la columna **genre**. Esto lo haremos por medio de un diccionario. El diccionario contiene la calificación que más se repite para cada género en esta tabla.\n",
        "\n",
        "**De este modo, cabe resaltar que las calificaciones vinculadas a los géneros en el siguiente diccionario no son 100% acertadas pero se acercan bastante a la realidad**."
      ]
    },
    {
      "cell_type": "code",
      "execution_count": null,
      "metadata": {
        "id": "wpGj-CNWVjmM"
      },
      "outputs": [],
      "source": [
        "# Contamos los valores de 'rating' por cada género\n",
        "pivot_table = ice.pivot_table(index='genre', columns='rating', aggfunc='count')"
      ]
    },
    {
      "cell_type": "code",
      "execution_count": null,
      "metadata": {
        "scrolled": true,
        "id": "31G-dR3KVjmM",
        "outputId": "621348b6-402b-4d5a-a079-69945297082d"
      },
      "outputs": [
        {
          "data": {
            "text/plain": [
              "genre\n",
              "Action          (eu_sales, T)\n",
              "Adventure       (eu_sales, E)\n",
              "Fighting        (eu_sales, T)\n",
              "Misc            (eu_sales, E)\n",
              "Platform        (eu_sales, E)\n",
              "Puzzle          (eu_sales, E)\n",
              "Racing          (eu_sales, E)\n",
              "Role-Playing    (eu_sales, T)\n",
              "Shooter         (eu_sales, M)\n",
              "Simulation      (eu_sales, E)\n",
              "Sports          (eu_sales, E)\n",
              "Strategy        (eu_sales, T)\n",
              "dtype: object"
            ]
          },
          "execution_count": 19,
          "metadata": {},
          "output_type": "execute_result"
        }
      ],
      "source": [
        "# Valores de rating que más se repiten por género\n",
        "\n",
        "## .idxmax(axis=1) nos entrega el valor máximo para cada género\n",
        "pivot_table.idxmax(axis=1)"
      ]
    },
    {
      "cell_type": "markdown",
      "metadata": {
        "id": "iMN6cm1jVjmM"
      },
      "source": [
        "A partir de la información anterior creamos el diccionario"
      ]
    },
    {
      "cell_type": "code",
      "execution_count": null,
      "metadata": {
        "id": "auySF2opVjmN"
      },
      "outputs": [],
      "source": [
        "# Creamos nuestro diccionario\n",
        "genre_rating_dict = {\n",
        "    'Sports': 'E',\n",
        "    'Shooter': 'M',\n",
        "    'Action': 'T',\n",
        "    'Fighting': 'T',\n",
        "    'Role-Playing': 'T',\n",
        "    'Racing': 'E',\n",
        "    'Misc': 'E',\n",
        "    'Platform': 'E',\n",
        "    'Simulation': 'E',\n",
        "    'Adventure': 'E',\n",
        "    'Strategy': 'T',\n",
        "    'Puzzle': 'E',\n",
        "    'unknown': 'unknown'\n",
        "}\n"
      ]
    },
    {
      "cell_type": "code",
      "execution_count": null,
      "metadata": {
        "id": "rc-2OFrNVjmN"
      },
      "outputs": [],
      "source": [
        "# Imputamos los valores ausentes de 'rating' con nuestro Dict\n",
        "ice['rating'] = ice['rating'].fillna(ice['genre'].map(genre_rating_dict))"
      ]
    },
    {
      "cell_type": "code",
      "execution_count": null,
      "metadata": {
        "scrolled": false,
        "id": "07LThLt3VjmO",
        "outputId": "bcde41d8-29c8-48a9-e988-96fa59744727"
      },
      "outputs": [
        {
          "data": {
            "text/plain": [
              "name                  0\n",
              "platform              0\n",
              "year_of_release     269\n",
              "genre                 0\n",
              "na_sales              0\n",
              "eu_sales              0\n",
              "jp_sales              0\n",
              "other_sales           0\n",
              "critic_score       8576\n",
              "user_score         6699\n",
              "rating                0\n",
              "dtype: int64"
            ]
          },
          "execution_count": 22,
          "metadata": {},
          "output_type": "execute_result"
        }
      ],
      "source": [
        "# Revisamos si tenemos valores ausentes en 'rating'\n",
        "ice.isna().sum()"
      ]
    },
    {
      "cell_type": "markdown",
      "metadata": {
        "id": "TrYt5j6CVjmO"
      },
      "source": [
        "Como se puede observar, todo ha quedado en orden."
      ]
    },
    {
      "cell_type": "markdown",
      "metadata": {
        "id": "WGivMov4VjmO"
      },
      "source": [
        "Para la columna **'year_of_release'**, una alternativa sería imputar en base a sus medianas en función a otra columna. Por ejemplo, utilizando la columna**'platform'**:"
      ]
    },
    {
      "cell_type": "code",
      "execution_count": null,
      "metadata": {
        "scrolled": true,
        "id": "rEDGHJkBVjmP",
        "outputId": "31d40c6a-1e5b-455f-9d36-4a84a7793e4e"
      },
      "outputs": [
        {
          "name": "stdout",
          "output_type": "stream",
          "text": [
            "Medianas en función a ´platform´:\n",
            "          year_of_release\n",
            "platform                 \n",
            "XOne               2015.0\n",
            "PS4                2015.0\n",
            "PSV                2014.0\n",
            "WiiU               2013.0\n",
            "3DS                2013.0\n",
            "PS3                2011.0\n",
            "X360               2010.0\n",
            "PC                 2010.0\n",
            "Wii                2009.0\n",
            "PSP                2009.0\n",
            "DS                 2008.0\n",
            "PS2                2005.0\n",
            "XB                 2004.0\n",
            "GBA                2003.0\n",
            "GC                 2003.0\n",
            "DC                 2000.0\n",
            "WS                 2000.0\n",
            "N64                1999.0\n",
            "PS                 1998.0\n",
            "GB                 1997.0\n",
            "PCFX               1996.0\n",
            "SAT                1996.0\n",
            "3DO                1995.0\n",
            "TG16               1995.0\n",
            "NG                 1994.5\n",
            "SCD                1994.0\n",
            "SNES               1994.0\n",
            "GEN                1993.0\n",
            "GG                 1992.0\n",
            "NES                1986.5\n",
            "2600               1982.0\n"
          ]
        }
      ],
      "source": [
        "# Calculamos las medianas de 'year_of_release' en función a 'platform'.\n",
        "print(\"Medianas en función a ´platform´:\")\n",
        "plat_year_median = ice.pivot_table(index='platform', values='year_of_release', aggfunc='median')\n",
        "print(plat_year_median.sort_values('year_of_release', ascending = False))"
      ]
    },
    {
      "cell_type": "markdown",
      "metadata": {
        "id": "Ee32Br30VjmP"
      },
      "source": [
        "Pero entre **year_of_release** y **platform** no hay una relación causal, por lo que esto no sería realista. Tampoco hemos encontrado una relación causal entre 'year_of_release' y otras columnas.\n",
        "Otra alternativa sería tratar de averiguar el año para cada título, pero tomaría demasiado tiempo. De este modo **dejaremos esta columna con los valores nulos**."
      ]
    },
    {
      "cell_type": "markdown",
      "metadata": {
        "id": "z1nOSVj4VjmP"
      },
      "source": [
        "Ahora abordaremos la columa **critic_score**. Al observar la tabla al principio, podemos ver que esta columna parece tener valores ausentes simétricos, junto a la columna **user_score** y **rating**, de este modo, pensamos que los 'NaN' se deben a un error en el sistema.\n",
        "Por otra parte, no hemos encontrado una relación causal entre **critic_score** y otra columna, de modo que decidimos no modificar sus valores nulos."
      ]
    },
    {
      "cell_type": "markdown",
      "metadata": {
        "id": "K5A2B1kpVjmQ"
      },
      "source": [
        "Por último, abordaremos los valores ausentes de la columna **user_score**"
      ]
    },
    {
      "cell_type": "code",
      "execution_count": null,
      "metadata": {
        "id": "_y6zHAwDVjmQ",
        "outputId": "b18468e2-3a20-4a1e-ae83-df4fe8561e29"
      },
      "outputs": [
        {
          "data": {
            "text/plain": [
              "tbd    2424\n",
              "7.8     324\n",
              "8       290\n",
              "8.2     282\n",
              "8.3     254\n",
              "       ... \n",
              "0.2       2\n",
              "1         2\n",
              "1.5       2\n",
              "0         1\n",
              "9.7       1\n",
              "Name: user_score, Length: 96, dtype: int64"
            ]
          },
          "execution_count": 24,
          "metadata": {},
          "output_type": "execute_result"
        }
      ],
      "source": [
        "# Revisamos su distribución\n",
        "ice.user_score.value_counts()"
      ]
    },
    {
      "cell_type": "markdown",
      "metadata": {
        "id": "9-P8mfPlVjmQ"
      },
      "source": [
        "Como vimos con anterioridad, esta columna posee varios valores 'tbd', que significa *'por determinar'*. Estos valores los consideraremos como 'NaN', ya que en realidad es información ausente. Por otra parte, en este caso tampoco hemos encontrado una relación causal entre **user_score** y otra columna, de modo que no alteraremos sus valores nulos."
      ]
    },
    {
      "cell_type": "code",
      "execution_count": null,
      "metadata": {
        "id": "WloNZvO0VjmQ"
      },
      "outputs": [],
      "source": [
        "# Pasamos los valores 'tbd' a 'nan'\n",
        "ice.user_score = ice.user_score.replace('tbd', np.nan)"
      ]
    },
    {
      "cell_type": "code",
      "execution_count": null,
      "metadata": {
        "scrolled": true,
        "id": "VJosqeWLVjmQ",
        "outputId": "34247721-7434-48cb-dc27-008c69f35ae8"
      },
      "outputs": [
        {
          "data": {
            "text/plain": [
              "array([76., nan, 82., 80., 89., 58., 87., 91., 61., 97., 95., 77., 88.,\n",
              "       83., 94., 93., 85., 86., 98., 96., 90., 84., 73., 74., 78., 92.,\n",
              "       71., 72., 68., 62., 49., 67., 81., 66., 56., 79., 70., 59., 64.,\n",
              "       75., 60., 63., 69., 50., 25., 42., 44., 55., 48., 57., 29., 47.,\n",
              "       65., 54., 20., 53., 37., 38., 33., 52., 30., 32., 43., 45., 51.,\n",
              "       40., 46., 39., 34., 35., 41., 36., 28., 31., 27., 26., 19., 23.,\n",
              "       24., 21., 17., 22., 13.])"
            ]
          },
          "execution_count": 26,
          "metadata": {},
          "output_type": "execute_result"
        }
      ],
      "source": [
        "ice.critic_score.unique()"
      ]
    },
    {
      "cell_type": "code",
      "execution_count": null,
      "metadata": {
        "id": "Fkq3-_fXVjmR",
        "outputId": "609c9fff-c90b-48b2-a85c-dd9dbb39721a"
      },
      "outputs": [
        {
          "data": {
            "text/plain": [
              "name                  0\n",
              "platform              0\n",
              "year_of_release     269\n",
              "genre                 0\n",
              "na_sales              0\n",
              "eu_sales              0\n",
              "jp_sales              0\n",
              "other_sales           0\n",
              "critic_score       8576\n",
              "user_score         9123\n",
              "rating                0\n",
              "dtype: int64"
            ]
          },
          "execution_count": 27,
          "metadata": {},
          "output_type": "execute_result"
        }
      ],
      "source": [
        "# Revisamos la distribución de los valores ausentes\n",
        "ice.isna().sum()"
      ]
    },
    {
      "cell_type": "markdown",
      "metadata": {
        "id": "s3_Fs1bVVjmR"
      },
      "source": [
        "Aquí podemos ver que los valores ausentes aumentaron debido a que transformamos 2424 valores 'tbd' a 'nan'."
      ]
    },
    {
      "cell_type": "markdown",
      "metadata": {
        "id": "9W_IKlIoVjmS"
      },
      "source": [
        "### Cambiamos los formatos de las columnas a los tipos necesarios\n",
        " - La columna 'year_of_release' la cambiaremos de 'float64' a 'Int64'.\n",
        " - La columna 'user_score' la cambiaremos de 'object' a 'float64'."
      ]
    },
    {
      "cell_type": "code",
      "execution_count": null,
      "metadata": {
        "id": "V6OLPA-gVjmS"
      },
      "outputs": [],
      "source": [
        "# Cambiamos el formato de la columna 'user_score'\n",
        "ice.user_score = ice.user_score.astype('float64')"
      ]
    },
    {
      "cell_type": "code",
      "execution_count": null,
      "metadata": {
        "scrolled": false,
        "id": "dwdG_VQeVjmS"
      },
      "outputs": [],
      "source": [
        "# Cambiamos el formato de la columna 'year_of_release'\n",
        "ice['year_of_release'] = ice['year_of_release'].astype('Int64')"
      ]
    },
    {
      "cell_type": "code",
      "execution_count": null,
      "metadata": {
        "id": "4yN9b6bPVjmS",
        "outputId": "9bd74aae-af21-423e-a1cd-fef8069440bb"
      },
      "outputs": [
        {
          "name": "stdout",
          "output_type": "stream",
          "text": [
            "<class 'pandas.core.frame.DataFrame'>\n",
            "Int64Index: 16713 entries, 0 to 16714\n",
            "Data columns (total 11 columns):\n",
            " #   Column           Non-Null Count  Dtype  \n",
            "---  ------           --------------  -----  \n",
            " 0   name             16713 non-null  object \n",
            " 1   platform         16713 non-null  object \n",
            " 2   year_of_release  16444 non-null  Int64  \n",
            " 3   genre            16713 non-null  object \n",
            " 4   na_sales         16713 non-null  float64\n",
            " 5   eu_sales         16713 non-null  float64\n",
            " 6   jp_sales         16713 non-null  float64\n",
            " 7   other_sales      16713 non-null  float64\n",
            " 8   critic_score     8137 non-null   float64\n",
            " 9   user_score       7590 non-null   float64\n",
            " 10  rating           16713 non-null  object \n",
            "dtypes: Int64(1), float64(6), object(4)\n",
            "memory usage: 1.5+ MB\n"
          ]
        }
      ],
      "source": [
        "# Revisamos que esté todo bien con los formatos de las columnas\n",
        "ice.info()"
      ]
    },
    {
      "cell_type": "markdown",
      "metadata": {
        "id": "8u-6jPjtVjmS"
      },
      "source": [
        "Hasta aquí todo se ve en orden!"
      ]
    },
    {
      "cell_type": "markdown",
      "metadata": {
        "id": "qEHTv1skVjmT"
      },
      "source": [
        "### Calculamos las ventas totales\n",
        "Ahora calcularemos las ventas totales para cada juego y pondremos estos valores en una nueva columna llamada **total_sales**"
      ]
    },
    {
      "cell_type": "code",
      "execution_count": null,
      "metadata": {
        "id": "Rn9XqqKTVjmT"
      },
      "outputs": [],
      "source": [
        "# Sumamos las ventas de todas las regiones\n",
        "ice['total_sales'] = ice[['na_sales', 'eu_sales', 'jp_sales', 'other_sales']].sum(axis=1)"
      ]
    },
    {
      "cell_type": "code",
      "execution_count": null,
      "metadata": {
        "id": "RF6k7fesVjmT",
        "outputId": "f8d95f74-1875-4a98-d78b-f64d041aaa66"
      },
      "outputs": [
        {
          "data": {
            "text/html": [
              "<div>\n",
              "<style scoped>\n",
              "    .dataframe tbody tr th:only-of-type {\n",
              "        vertical-align: middle;\n",
              "    }\n",
              "\n",
              "    .dataframe tbody tr th {\n",
              "        vertical-align: top;\n",
              "    }\n",
              "\n",
              "    .dataframe thead th {\n",
              "        text-align: right;\n",
              "    }\n",
              "</style>\n",
              "<table border=\"1\" class=\"dataframe\">\n",
              "  <thead>\n",
              "    <tr style=\"text-align: right;\">\n",
              "      <th></th>\n",
              "      <th>name</th>\n",
              "      <th>platform</th>\n",
              "      <th>year_of_release</th>\n",
              "      <th>genre</th>\n",
              "      <th>na_sales</th>\n",
              "      <th>eu_sales</th>\n",
              "      <th>jp_sales</th>\n",
              "      <th>other_sales</th>\n",
              "      <th>critic_score</th>\n",
              "      <th>user_score</th>\n",
              "      <th>rating</th>\n",
              "      <th>total_sales</th>\n",
              "    </tr>\n",
              "  </thead>\n",
              "  <tbody>\n",
              "    <tr>\n",
              "      <th>0</th>\n",
              "      <td>Wii Sports</td>\n",
              "      <td>Wii</td>\n",
              "      <td>2006</td>\n",
              "      <td>Sports</td>\n",
              "      <td>41.36</td>\n",
              "      <td>28.96</td>\n",
              "      <td>3.77</td>\n",
              "      <td>8.45</td>\n",
              "      <td>76.0</td>\n",
              "      <td>8.0</td>\n",
              "      <td>E</td>\n",
              "      <td>82.54</td>\n",
              "    </tr>\n",
              "    <tr>\n",
              "      <th>1</th>\n",
              "      <td>Super Mario Bros.</td>\n",
              "      <td>NES</td>\n",
              "      <td>1985</td>\n",
              "      <td>Platform</td>\n",
              "      <td>29.08</td>\n",
              "      <td>3.58</td>\n",
              "      <td>6.81</td>\n",
              "      <td>0.77</td>\n",
              "      <td>NaN</td>\n",
              "      <td>NaN</td>\n",
              "      <td>E</td>\n",
              "      <td>40.24</td>\n",
              "    </tr>\n",
              "    <tr>\n",
              "      <th>2</th>\n",
              "      <td>Mario Kart Wii</td>\n",
              "      <td>Wii</td>\n",
              "      <td>2008</td>\n",
              "      <td>Racing</td>\n",
              "      <td>15.68</td>\n",
              "      <td>12.76</td>\n",
              "      <td>3.79</td>\n",
              "      <td>3.29</td>\n",
              "      <td>82.0</td>\n",
              "      <td>8.3</td>\n",
              "      <td>E</td>\n",
              "      <td>35.52</td>\n",
              "    </tr>\n",
              "    <tr>\n",
              "      <th>3</th>\n",
              "      <td>Wii Sports Resort</td>\n",
              "      <td>Wii</td>\n",
              "      <td>2009</td>\n",
              "      <td>Sports</td>\n",
              "      <td>15.61</td>\n",
              "      <td>10.93</td>\n",
              "      <td>3.28</td>\n",
              "      <td>2.95</td>\n",
              "      <td>80.0</td>\n",
              "      <td>8.0</td>\n",
              "      <td>E</td>\n",
              "      <td>32.77</td>\n",
              "    </tr>\n",
              "    <tr>\n",
              "      <th>4</th>\n",
              "      <td>Pokemon Red/Pokemon Blue</td>\n",
              "      <td>GB</td>\n",
              "      <td>1996</td>\n",
              "      <td>Role-Playing</td>\n",
              "      <td>11.27</td>\n",
              "      <td>8.89</td>\n",
              "      <td>10.22</td>\n",
              "      <td>1.00</td>\n",
              "      <td>NaN</td>\n",
              "      <td>NaN</td>\n",
              "      <td>T</td>\n",
              "      <td>31.38</td>\n",
              "    </tr>\n",
              "  </tbody>\n",
              "</table>\n",
              "</div>"
            ],
            "text/plain": [
              "                       name platform  year_of_release         genre  na_sales  \\\n",
              "0                Wii Sports      Wii             2006        Sports     41.36   \n",
              "1         Super Mario Bros.      NES             1985      Platform     29.08   \n",
              "2            Mario Kart Wii      Wii             2008        Racing     15.68   \n",
              "3         Wii Sports Resort      Wii             2009        Sports     15.61   \n",
              "4  Pokemon Red/Pokemon Blue       GB             1996  Role-Playing     11.27   \n",
              "\n",
              "   eu_sales  jp_sales  other_sales  critic_score  user_score rating  \\\n",
              "0     28.96      3.77         8.45          76.0         8.0      E   \n",
              "1      3.58      6.81         0.77           NaN         NaN      E   \n",
              "2     12.76      3.79         3.29          82.0         8.3      E   \n",
              "3     10.93      3.28         2.95          80.0         8.0      E   \n",
              "4      8.89     10.22         1.00           NaN         NaN      T   \n",
              "\n",
              "   total_sales  \n",
              "0        82.54  \n",
              "1        40.24  \n",
              "2        35.52  \n",
              "3        32.77  \n",
              "4        31.38  "
            ]
          },
          "execution_count": 32,
          "metadata": {},
          "output_type": "execute_result"
        }
      ],
      "source": [
        "# Damos un vistazo a 'total_sales'\n",
        "ice.head()"
      ]
    },
    {
      "cell_type": "markdown",
      "metadata": {
        "id": "QJZPYy2-VjmT"
      },
      "source": [
        "# Analisis de los datos\n",
        "\n",
        "### Revisamos cuántos juegos fueron lanzados en diferentes años\n"
      ]
    },
    {
      "cell_type": "markdown",
      "metadata": {
        "id": "9J3444LnVjmT"
      },
      "source": [
        "Para continuar, calcularemos cuántos juegos fueron lanzados en diferentes años, y si son significativos los datos de cada periodo."
      ]
    },
    {
      "cell_type": "code",
      "execution_count": null,
      "metadata": {
        "id": "CCrrHwLzVjmT",
        "outputId": "da9d0788-e786-409d-871d-07b39381cf3f"
      },
      "outputs": [
        {
          "data": {
            "text/plain": [
              "1980       9\n",
              "1981      46\n",
              "1982      36\n",
              "1983      17\n",
              "1984      14\n",
              "1985      14\n",
              "1986      21\n",
              "1987      16\n",
              "1988      15\n",
              "1989      17\n",
              "1990      16\n",
              "1991      41\n",
              "1992      43\n",
              "1993      60\n",
              "1994     121\n",
              "1995     219\n",
              "1996     263\n",
              "1997     289\n",
              "1998     379\n",
              "1999     338\n",
              "2000     350\n",
              "2001     482\n",
              "2002     829\n",
              "2003     775\n",
              "2004     762\n",
              "2005     939\n",
              "2006    1006\n",
              "2007    1197\n",
              "2008    1427\n",
              "2009    1426\n",
              "2010    1255\n",
              "2011    1136\n",
              "2012     653\n",
              "2013     544\n",
              "2014     581\n",
              "2015     606\n",
              "2016     502\n",
              "Name: year_of_release, dtype: Int64"
            ]
          },
          "execution_count": 33,
          "metadata": {},
          "output_type": "execute_result"
        }
      ],
      "source": [
        "# Calculamos los juegos por año y ordenamos por año\n",
        "games_per_year = ice.year_of_release.value_counts().sort_index()\n",
        "games_per_year"
      ]
    },
    {
      "cell_type": "code",
      "execution_count": null,
      "metadata": {
        "id": "1FX5MWONVjmT",
        "outputId": "361a9b98-29af-4d98-8dea-dfafc7540f9c"
      },
      "outputs": [
        {
          "data": {
            "image/png": "[encoded data removed]",
            "text/plain": [
              "<Figure size 792x360 with 1 Axes>"
            ]
          },
          "metadata": {
            "needs_background": "light"
          },
          "output_type": "display_data"
        }
      ],
      "source": [
        "# Graficamos los datos\n",
        "\n",
        "plt.figure(figsize = (11,5))\n",
        "games_per_year.plot(kind='bar', grid=True)\n",
        "\n",
        "plt.xlabel('Años')\n",
        "plt.ylabel('Juegos Lanzados')\n",
        "plt.title('Cantidad de Juegos Lanzados por Año')\n",
        "plt.show()"
      ]
    },
    {
      "cell_type": "code",
      "execution_count": null,
      "metadata": {
        "id": "MGlMBXTjVjmU",
        "outputId": "116a3468-f3ce-4090-872c-b554d8c3082d"
      },
      "outputs": [
        {
          "data": {
            "image/png": "[encoded data removed]",
            "text/plain": [
              "<Figure size 864x360 with 1 Axes>"
            ]
          },
          "metadata": {
            "needs_background": "light"
          },
          "output_type": "display_data"
        }
      ],
      "source": [
        "# Creamos un gráfico alternativo\n",
        "games_per_year.plot(figsize=(12,5))\n",
        "plt.xlabel('Años')\n",
        "plt.ylabel('Juegos Lanzados')\n",
        "plt.title('Cantidad de Juegos Lanzados por Año')\n",
        "plt.show()"
      ]
    },
    {
      "cell_type": "markdown",
      "metadata": {
        "id": "_1tzz66OVjmU"
      },
      "source": [
        "Como vemos en el gráfico, en los años de la década de los 80 la cantidad de juegos lanzados al mercado no superaba los 100 títulos. A partir de los años de la década de los 90 el mercado de los juegos comienza a crecer. En los años 2008 y 2009 es donde más se lanzan juegos, superando los 1.400 títulos por año. Luego los lanzamientos descienden abruptamente en el año 2012, y siguen descendiendo gradualmente hasta el año 2016.\n"
      ]
    },
    {
      "cell_type": "markdown",
      "metadata": {
        "id": "7geq_0ZDVjmU"
      },
      "source": [
        "### Observamos cómo varían las ventas entre las plataformas\n",
        "\n",
        "A continuación observaremos  cómo varían las ventas de una plataforma a otra. Elegiremos las plataformas con las mayores ventas totales y construiremos una distribución basada en los datos de cada año. Buscaremos las plataformas que solían ser populares pero que ahora no tienen ventas. Y veremos cuánto tardan generalmente las nuevas plataformas en aparecer y las antiguas en desaparecer."
      ]
    },
    {
      "cell_type": "code",
      "execution_count": null,
      "metadata": {
        "scrolled": true,
        "id": "GHW4Mn3KVjmU",
        "outputId": "222a1dac-c32e-470f-f503-0e12dacfb37a"
      },
      "outputs": [
        {
          "data": {
            "text/html": [
              "<div>\n",
              "<style scoped>\n",
              "    .dataframe tbody tr th:only-of-type {\n",
              "        vertical-align: middle;\n",
              "    }\n",
              "\n",
              "    .dataframe tbody tr th {\n",
              "        vertical-align: top;\n",
              "    }\n",
              "\n",
              "    .dataframe thead th {\n",
              "        text-align: right;\n",
              "    }\n",
              "</style>\n",
              "<table border=\"1\" class=\"dataframe\">\n",
              "  <thead>\n",
              "    <tr style=\"text-align: right;\">\n",
              "      <th></th>\n",
              "      <th>total_sales</th>\n",
              "    </tr>\n",
              "    <tr>\n",
              "      <th>platform</th>\n",
              "      <th></th>\n",
              "    </tr>\n",
              "  </thead>\n",
              "  <tbody>\n",
              "    <tr>\n",
              "      <th>PCFX</th>\n",
              "      <td>0.03</td>\n",
              "    </tr>\n",
              "    <tr>\n",
              "      <th>GG</th>\n",
              "      <td>0.04</td>\n",
              "    </tr>\n",
              "    <tr>\n",
              "      <th>3DO</th>\n",
              "      <td>0.10</td>\n",
              "    </tr>\n",
              "    <tr>\n",
              "      <th>TG16</th>\n",
              "      <td>0.16</td>\n",
              "    </tr>\n",
              "    <tr>\n",
              "      <th>WS</th>\n",
              "      <td>1.42</td>\n",
              "    </tr>\n",
              "    <tr>\n",
              "      <th>NG</th>\n",
              "      <td>1.44</td>\n",
              "    </tr>\n",
              "    <tr>\n",
              "      <th>SCD</th>\n",
              "      <td>1.86</td>\n",
              "    </tr>\n",
              "    <tr>\n",
              "      <th>DC</th>\n",
              "      <td>15.95</td>\n",
              "    </tr>\n",
              "    <tr>\n",
              "      <th>GEN</th>\n",
              "      <td>28.35</td>\n",
              "    </tr>\n",
              "    <tr>\n",
              "      <th>SAT</th>\n",
              "      <td>33.59</td>\n",
              "    </tr>\n",
              "    <tr>\n",
              "      <th>PSV</th>\n",
              "      <td>54.07</td>\n",
              "    </tr>\n",
              "    <tr>\n",
              "      <th>WiiU</th>\n",
              "      <td>82.19</td>\n",
              "    </tr>\n",
              "    <tr>\n",
              "      <th>2600</th>\n",
              "      <td>96.98</td>\n",
              "    </tr>\n",
              "    <tr>\n",
              "      <th>XOne</th>\n",
              "      <td>159.32</td>\n",
              "    </tr>\n",
              "    <tr>\n",
              "      <th>GC</th>\n",
              "      <td>198.93</td>\n",
              "    </tr>\n",
              "    <tr>\n",
              "      <th>SNES</th>\n",
              "      <td>200.04</td>\n",
              "    </tr>\n",
              "    <tr>\n",
              "      <th>N64</th>\n",
              "      <td>218.68</td>\n",
              "    </tr>\n",
              "    <tr>\n",
              "      <th>NES</th>\n",
              "      <td>251.05</td>\n",
              "    </tr>\n",
              "    <tr>\n",
              "      <th>GB</th>\n",
              "      <td>255.46</td>\n",
              "    </tr>\n",
              "    <tr>\n",
              "      <th>XB</th>\n",
              "      <td>257.74</td>\n",
              "    </tr>\n",
              "    <tr>\n",
              "      <th>3DS</th>\n",
              "      <td>259.00</td>\n",
              "    </tr>\n",
              "    <tr>\n",
              "      <th>PC</th>\n",
              "      <td>259.52</td>\n",
              "    </tr>\n",
              "    <tr>\n",
              "      <th>PSP</th>\n",
              "      <td>294.05</td>\n",
              "    </tr>\n",
              "    <tr>\n",
              "      <th>PS4</th>\n",
              "      <td>314.14</td>\n",
              "    </tr>\n",
              "    <tr>\n",
              "      <th>GBA</th>\n",
              "      <td>317.85</td>\n",
              "    </tr>\n",
              "    <tr>\n",
              "      <th>PS</th>\n",
              "      <td>730.86</td>\n",
              "    </tr>\n",
              "    <tr>\n",
              "      <th>DS</th>\n",
              "      <td>806.12</td>\n",
              "    </tr>\n",
              "    <tr>\n",
              "      <th>Wii</th>\n",
              "      <td>907.51</td>\n",
              "    </tr>\n",
              "    <tr>\n",
              "      <th>PS3</th>\n",
              "      <td>939.65</td>\n",
              "    </tr>\n",
              "    <tr>\n",
              "      <th>X360</th>\n",
              "      <td>971.42</td>\n",
              "    </tr>\n",
              "    <tr>\n",
              "      <th>PS2</th>\n",
              "      <td>1255.77</td>\n",
              "    </tr>\n",
              "  </tbody>\n",
              "</table>\n",
              "</div>"
            ],
            "text/plain": [
              "          total_sales\n",
              "platform             \n",
              "PCFX             0.03\n",
              "GG               0.04\n",
              "3DO              0.10\n",
              "TG16             0.16\n",
              "WS               1.42\n",
              "NG               1.44\n",
              "SCD              1.86\n",
              "DC              15.95\n",
              "GEN             28.35\n",
              "SAT             33.59\n",
              "PSV             54.07\n",
              "WiiU            82.19\n",
              "2600            96.98\n",
              "XOne           159.32\n",
              "GC             198.93\n",
              "SNES           200.04\n",
              "N64            218.68\n",
              "NES            251.05\n",
              "GB             255.46\n",
              "XB             257.74\n",
              "3DS            259.00\n",
              "PC             259.52\n",
              "PSP            294.05\n",
              "PS4            314.14\n",
              "GBA            317.85\n",
              "PS             730.86\n",
              "DS             806.12\n",
              "Wii            907.51\n",
              "PS3            939.65\n",
              "X360           971.42\n",
              "PS2           1255.77"
            ]
          },
          "execution_count": 36,
          "metadata": {},
          "output_type": "execute_result"
        }
      ],
      "source": [
        "# Visualizamos las ventas en función a las plataformas\n",
        "sales_per_plat = ice.pivot_table(index='platform', values='total_sales', aggfunc='sum').sort_values(by='total_sales')\n",
        "sales_per_plat"
      ]
    },
    {
      "cell_type": "code",
      "execution_count": null,
      "metadata": {
        "id": "mQ2yYaGqVjmU",
        "outputId": "be43ea9c-28ba-47a9-f8b6-82422605c372"
      },
      "outputs": [
        {
          "data": {
            "image/png": "[encoded data removed]",
            "text/plain": [
              "<Figure size 432x288 with 1 Axes>"
            ]
          },
          "metadata": {
            "needs_background": "light"
          },
          "output_type": "display_data"
        }
      ],
      "source": [
        "# Graficamos los datos\n",
        "sales_per_plat.plot(kind='bar', grid=True)\n",
        "\n",
        "plt.xlabel('Plataformas')\n",
        "plt.ylabel('Ventas en Millones')\n",
        "plt.title('Ventas Totales por Plataforma')\n",
        "plt.show()"
      ]
    },
    {
      "cell_type": "markdown",
      "metadata": {
        "id": "L2C4NJspVjmV"
      },
      "source": [
        "Como se puede ver, la PS2 es la consola que ha generado mayores ganancias, seguida de la X360 y la PS3. Mientras que las ganancias de las consolas más antiguas son mucho menores"
      ]
    },
    {
      "cell_type": "markdown",
      "metadata": {
        "id": "W30odW0HVjmV"
      },
      "source": [
        "Ahora elegiremos las plataformas con las mayores ventas totales y construiremos una distribución basada en los datos de cada año. Para esto crearemos una tabla filtrada por las plataformas: **PS2**, **X360**, **PS3**, **Wii**, **DS** y **PS**."
      ]
    },
    {
      "cell_type": "code",
      "execution_count": null,
      "metadata": {
        "id": "Vvig9B_jVjmV"
      },
      "outputs": [],
      "source": [
        "# Creamos nuestra tablas con las plataformas con más ventas\n",
        "most_sales_plats = ice[ice['platform'].isin(['PS2', 'X360', 'PS3', 'Wii', 'DS', 'PS'])]"
      ]
    },
    {
      "cell_type": "code",
      "execution_count": null,
      "metadata": {
        "scrolled": false,
        "id": "qgU_dmkrVjmV",
        "outputId": "9c0f18e6-55da-4f6e-a61c-c710101f00da"
      },
      "outputs": [
        {
          "data": {
            "text/html": [
              "<div>\n",
              "<style scoped>\n",
              "    .dataframe tbody tr th:only-of-type {\n",
              "        vertical-align: middle;\n",
              "    }\n",
              "\n",
              "    .dataframe tbody tr th {\n",
              "        vertical-align: top;\n",
              "    }\n",
              "\n",
              "    .dataframe thead th {\n",
              "        text-align: right;\n",
              "    }\n",
              "</style>\n",
              "<table border=\"1\" class=\"dataframe\">\n",
              "  <thead>\n",
              "    <tr style=\"text-align: right;\">\n",
              "      <th></th>\n",
              "      <th>total_sales</th>\n",
              "    </tr>\n",
              "    <tr>\n",
              "      <th>year_of_release</th>\n",
              "      <th></th>\n",
              "    </tr>\n",
              "  </thead>\n",
              "  <tbody>\n",
              "    <tr>\n",
              "      <th>1985</th>\n",
              "      <td>0.02</td>\n",
              "    </tr>\n",
              "    <tr>\n",
              "      <th>1994</th>\n",
              "      <td>6.03</td>\n",
              "    </tr>\n",
              "    <tr>\n",
              "      <th>1995</th>\n",
              "      <td>35.96</td>\n",
              "    </tr>\n",
              "    <tr>\n",
              "      <th>1996</th>\n",
              "      <td>94.70</td>\n",
              "    </tr>\n",
              "    <tr>\n",
              "      <th>1997</th>\n",
              "      <td>136.17</td>\n",
              "    </tr>\n",
              "    <tr>\n",
              "      <th>1998</th>\n",
              "      <td>169.49</td>\n",
              "    </tr>\n",
              "    <tr>\n",
              "      <th>1999</th>\n",
              "      <td>144.53</td>\n",
              "    </tr>\n",
              "    <tr>\n",
              "      <th>2000</th>\n",
              "      <td>135.54</td>\n",
              "    </tr>\n",
              "    <tr>\n",
              "      <th>2001</th>\n",
              "      <td>202.02</td>\n",
              "    </tr>\n",
              "    <tr>\n",
              "      <th>2002</th>\n",
              "      <td>212.05</td>\n",
              "    </tr>\n",
              "    <tr>\n",
              "      <th>2003</th>\n",
              "      <td>186.38</td>\n",
              "    </tr>\n",
              "    <tr>\n",
              "      <th>2004</th>\n",
              "      <td>229.08</td>\n",
              "    </tr>\n",
              "    <tr>\n",
              "      <th>2005</th>\n",
              "      <td>299.05</td>\n",
              "    </tr>\n",
              "    <tr>\n",
              "      <th>2006</th>\n",
              "      <td>432.96</td>\n",
              "    </tr>\n",
              "    <tr>\n",
              "      <th>2007</th>\n",
              "      <td>544.30</td>\n",
              "    </tr>\n",
              "    <tr>\n",
              "      <th>2008</th>\n",
              "      <td>624.31</td>\n",
              "    </tr>\n",
              "    <tr>\n",
              "      <th>2009</th>\n",
              "      <td>604.13</td>\n",
              "    </tr>\n",
              "    <tr>\n",
              "      <th>2010</th>\n",
              "      <td>530.81</td>\n",
              "    </tr>\n",
              "    <tr>\n",
              "      <th>2011</th>\n",
              "      <td>386.90</td>\n",
              "    </tr>\n",
              "    <tr>\n",
              "      <th>2012</th>\n",
              "      <td>239.82</td>\n",
              "    </tr>\n",
              "    <tr>\n",
              "      <th>2013</th>\n",
              "      <td>211.96</td>\n",
              "    </tr>\n",
              "    <tr>\n",
              "      <th>2014</th>\n",
              "      <td>86.25</td>\n",
              "    </tr>\n",
              "    <tr>\n",
              "      <th>2015</th>\n",
              "      <td>29.92</td>\n",
              "    </tr>\n",
              "    <tr>\n",
              "      <th>2016</th>\n",
              "      <td>5.30</td>\n",
              "    </tr>\n",
              "  </tbody>\n",
              "</table>\n",
              "</div>"
            ],
            "text/plain": [
              "                 total_sales\n",
              "year_of_release             \n",
              "1985                    0.02\n",
              "1994                    6.03\n",
              "1995                   35.96\n",
              "1996                   94.70\n",
              "1997                  136.17\n",
              "1998                  169.49\n",
              "1999                  144.53\n",
              "2000                  135.54\n",
              "2001                  202.02\n",
              "2002                  212.05\n",
              "2003                  186.38\n",
              "2004                  229.08\n",
              "2005                  299.05\n",
              "2006                  432.96\n",
              "2007                  544.30\n",
              "2008                  624.31\n",
              "2009                  604.13\n",
              "2010                  530.81\n",
              "2011                  386.90\n",
              "2012                  239.82\n",
              "2013                  211.96\n",
              "2014                   86.25\n",
              "2015                   29.92\n",
              "2016                    5.30"
            ]
          },
          "execution_count": 39,
          "metadata": {},
          "output_type": "execute_result"
        }
      ],
      "source": [
        "# Revisamos la distribución de ventas por año\n",
        "sales_per_year = most_sales_plats.pivot_table(index='year_of_release', values='total_sales', aggfunc='sum').sort_index()\n",
        "sales_per_year"
      ]
    },
    {
      "cell_type": "markdown",
      "metadata": {
        "id": "jV0H0hCKVjmV"
      },
      "source": [
        "Aquí curiosamente podemos ver que hay un juego en 1985 para consolas más modernas. Antes de graficar, investigaremos este caso."
      ]
    },
    {
      "cell_type": "code",
      "execution_count": null,
      "metadata": {
        "scrolled": true,
        "id": "P3RxP2FPVjmV",
        "outputId": "43280fa6-52f8-4706-82a5-142b7f4d31d0"
      },
      "outputs": [
        {
          "data": {
            "text/html": [
              "<div>\n",
              "<style scoped>\n",
              "    .dataframe tbody tr th:only-of-type {\n",
              "        vertical-align: middle;\n",
              "    }\n",
              "\n",
              "    .dataframe tbody tr th {\n",
              "        vertical-align: top;\n",
              "    }\n",
              "\n",
              "    .dataframe thead th {\n",
              "        text-align: right;\n",
              "    }\n",
              "</style>\n",
              "<table border=\"1\" class=\"dataframe\">\n",
              "  <thead>\n",
              "    <tr style=\"text-align: right;\">\n",
              "      <th></th>\n",
              "      <th>name</th>\n",
              "      <th>platform</th>\n",
              "      <th>year_of_release</th>\n",
              "      <th>genre</th>\n",
              "      <th>na_sales</th>\n",
              "      <th>eu_sales</th>\n",
              "      <th>jp_sales</th>\n",
              "      <th>other_sales</th>\n",
              "      <th>critic_score</th>\n",
              "      <th>user_score</th>\n",
              "      <th>rating</th>\n",
              "      <th>total_sales</th>\n",
              "    </tr>\n",
              "  </thead>\n",
              "  <tbody>\n",
              "    <tr>\n",
              "      <th>15957</th>\n",
              "      <td>Strongest Tokyo University Shogi DS</td>\n",
              "      <td>DS</td>\n",
              "      <td>1985</td>\n",
              "      <td>Action</td>\n",
              "      <td>0.0</td>\n",
              "      <td>0.0</td>\n",
              "      <td>0.02</td>\n",
              "      <td>0.0</td>\n",
              "      <td>NaN</td>\n",
              "      <td>NaN</td>\n",
              "      <td>T</td>\n",
              "      <td>0.02</td>\n",
              "    </tr>\n",
              "  </tbody>\n",
              "</table>\n",
              "</div>"
            ],
            "text/plain": [
              "                                      name platform  year_of_release   genre  \\\n",
              "15957  Strongest Tokyo University Shogi DS       DS             1985  Action   \n",
              "\n",
              "       na_sales  eu_sales  jp_sales  other_sales  critic_score  user_score  \\\n",
              "15957       0.0       0.0      0.02          0.0           NaN         NaN   \n",
              "\n",
              "      rating  total_sales  \n",
              "15957      T         0.02  "
            ]
          },
          "execution_count": 40,
          "metadata": {},
          "output_type": "execute_result"
        }
      ],
      "source": [
        "# Revisamos el juego de 1985\n",
        "most_sales_plats[most_sales_plats['year_of_release']==1985]"
      ]
    },
    {
      "cell_type": "markdown",
      "metadata": {
        "id": "P19HJwLZVjmV"
      },
      "source": [
        "Podemos ver que se trata de un juego de DS. El año es incorrecto ya que la plataforma DS salío muchos años después. De este modo, podemos concluir que se trata de una fecha erróne. Para que no interfiera con nuestra investigación quitaremos esta fila de la tabla."
      ]
    },
    {
      "cell_type": "code",
      "execution_count": null,
      "metadata": {
        "scrolled": true,
        "id": "hOyDVYDjVjmW"
      },
      "outputs": [],
      "source": [
        "# Quitamos la fila\n",
        "most_sales_plats = most_sales_plats.drop([15957])"
      ]
    },
    {
      "cell_type": "code",
      "execution_count": null,
      "metadata": {
        "id": "BU83486YVjmW"
      },
      "outputs": [],
      "source": [
        "# Actualizamos la agrupación\n",
        "sales_per_year = most_sales_plats.pivot_table(index='year_of_release', values='total_sales', aggfunc='sum').sort_index()"
      ]
    },
    {
      "cell_type": "code",
      "execution_count": null,
      "metadata": {
        "scrolled": false,
        "id": "zpZ4sLx1VjmW",
        "outputId": "35dbae9c-2a00-4075-b7f3-da3d4bab2c06"
      },
      "outputs": [
        {
          "data": {
            "image/png": "[encoded data removed]",
            "text/plain": [
              "<Figure size 432x288 with 1 Axes>"
            ]
          },
          "metadata": {
            "needs_background": "light"
          },
          "output_type": "display_data"
        }
      ],
      "source": [
        "# Graficamos los datos\n",
        "\n",
        "sales_per_year.plot(kind='bar', grid=True)\n",
        "\n",
        "plt.xlabel('Años')\n",
        "plt.ylabel('Ventas en millones')\n",
        "plt.title('Ventas totales por año de las plataformas más populares')\n",
        "plt.show()"
      ]
    },
    {
      "cell_type": "markdown",
      "metadata": {
        "id": "8OpMgtxuVjmW"
      },
      "source": [
        "En este gráfico podemos ver las ventas totales en función a las 5 plataformas con mayores ventas.\n",
        "\n",
        " - En el gráfico podemos observar un aumento significativo de las ventas desde los años 90 hasta los años 2008 y 2009. Despues de este punto, las ventas comienzan a descender.\n",
        "\n",
        "\n",
        " - Esto puede deberse a que a medida que avanzan los años, la tecnología también, y la complejidad de desarrollar juegos es mayor. En resumidas cuentas, se lanzan menos juegos por año y la tecnología es más cara."
      ]
    },
    {
      "cell_type": "markdown",
      "metadata": {
        "id": "aph-Vud6VjmW"
      },
      "source": [
        "#### Ahora veremos las ganancias totales por consolas por separado.\n",
        "\n",
        "Comenzaremos con la **PS2**"
      ]
    },
    {
      "cell_type": "code",
      "execution_count": null,
      "metadata": {
        "id": "axwZ4SxeVjmW"
      },
      "outputs": [],
      "source": [
        "# Calculamos las ventas totales de la pataforma en función a los años\n",
        "ice_ps2 = ice[ice['platform']=='PS2']\n",
        "ice_ps2_sales = ice_ps2.pivot_table(index='year_of_release', values='total_sales', aggfunc='sum').sort_index()"
      ]
    },
    {
      "cell_type": "code",
      "execution_count": null,
      "metadata": {
        "id": "jQoPdEXcVjmW",
        "outputId": "42154b03-2f99-4ef7-b3fa-83b7be2d3e54"
      },
      "outputs": [
        {
          "data": {
            "image/png": "[encoded data removed]",
            "text/plain": [
              "<Figure size 432x288 with 1 Axes>"
            ]
          },
          "metadata": {
            "needs_background": "light"
          },
          "output_type": "display_data"
        }
      ],
      "source": [
        "# Graficamos los datos\n",
        "\n",
        "ice_ps2_sales.plot(kind='bar', grid=True)\n",
        "\n",
        "plt.xlabel('Años')\n",
        "plt.ylabel('Ventas en millones')\n",
        "plt.title('Ventas totales por año de la PS2')\n",
        "plt.show()"
      ]
    },
    {
      "cell_type": "markdown",
      "metadata": {
        "id": "oM_xn4tFVjmX"
      },
      "source": [
        "Seguimos con **X360**"
      ]
    },
    {
      "cell_type": "code",
      "execution_count": null,
      "metadata": {
        "id": "R1ouJ29QVjmX"
      },
      "outputs": [],
      "source": [
        "# Calculamos las ventas totales de la pataforma en función a los años\n",
        "ice_x360 = ice[ice['platform']=='X360']\n",
        "ice_x360_sales = ice_x360.pivot_table(index='year_of_release', values='total_sales', aggfunc='sum').sort_index()"
      ]
    },
    {
      "cell_type": "code",
      "execution_count": null,
      "metadata": {
        "scrolled": true,
        "id": "w0y-zquAVjmX",
        "outputId": "7ff943fa-8d74-4468-a211-1ec728fa8fdb"
      },
      "outputs": [
        {
          "data": {
            "image/png": "[encoded data removed]",
            "text/plain": [
              "<Figure size 432x288 with 1 Axes>"
            ]
          },
          "metadata": {
            "needs_background": "light"
          },
          "output_type": "display_data"
        }
      ],
      "source": [
        "# Graficamos los datos\n",
        "\n",
        "ice_x360_sales.plot(kind='bar', grid=True)\n",
        "\n",
        "plt.xlabel('Años')\n",
        "plt.ylabel('Ventas en millones')\n",
        "plt.title('Ventas totales por año de la Xbox 360')\n",
        "plt.show()"
      ]
    },
    {
      "cell_type": "markdown",
      "metadata": {
        "id": "RenMOAaKVjmX"
      },
      "source": [
        "Seguimos con la **PS3**"
      ]
    },
    {
      "cell_type": "code",
      "execution_count": null,
      "metadata": {
        "id": "j4c-Rzb8VjmX"
      },
      "outputs": [],
      "source": [
        "# Calculamos las ventas totales de la pataforma en función a los años\n",
        "ice_ps3 = ice[ice['platform']=='PS3']\n",
        "ice_ps3_sales = ice_ps3.pivot_table(index='year_of_release', values='total_sales', aggfunc='sum').sort_index()"
      ]
    },
    {
      "cell_type": "code",
      "execution_count": null,
      "metadata": {
        "id": "05G_5SM4VjmY",
        "outputId": "2828ff41-4925-4730-b56f-16e98ed603f7"
      },
      "outputs": [
        {
          "data": {
            "image/png": "[encoded data removed]",
            "text/plain": [
              "<Figure size 432x288 with 1 Axes>"
            ]
          },
          "metadata": {
            "needs_background": "light"
          },
          "output_type": "display_data"
        }
      ],
      "source": [
        "# Graficamos los datos\n",
        "\n",
        "ice_ps3_sales.plot(kind='bar', grid=True)\n",
        "\n",
        "plt.xlabel('Años')\n",
        "plt.ylabel('Ventas en millones')\n",
        "plt.title('Ventas totales por año de la PS3')\n",
        "plt.show()"
      ]
    },
    {
      "cell_type": "markdown",
      "metadata": {
        "id": "WP8S6YkXVjmY"
      },
      "source": [
        "Continuamos con la consola **Wii**"
      ]
    },
    {
      "cell_type": "code",
      "execution_count": null,
      "metadata": {
        "id": "68XjqSl7VjmY"
      },
      "outputs": [],
      "source": [
        "# Calculamos las ventas totales de la pataforma en función a los años\n",
        "ice_wii = ice[ice['platform']=='Wii']\n",
        "ice_wii_sales = ice_wii.pivot_table(index='year_of_release', values='total_sales', aggfunc='sum').sort_index()"
      ]
    },
    {
      "cell_type": "code",
      "execution_count": null,
      "metadata": {
        "scrolled": true,
        "id": "cbnFoHTmVjmY",
        "outputId": "36e45af9-ab0f-44bf-e39a-bf7e9980b8fa"
      },
      "outputs": [
        {
          "data": {
            "image/png": "[encoded data removed]",
            "text/plain": [
              "<Figure size 432x288 with 1 Axes>"
            ]
          },
          "metadata": {
            "needs_background": "light"
          },
          "output_type": "display_data"
        }
      ],
      "source": [
        "# Graficamos los datos\n",
        "\n",
        "ice_wii_sales.plot(kind='bar', grid=True)\n",
        "\n",
        "plt.xlabel('Años')\n",
        "plt.ylabel('Ventas en millones')\n",
        "plt.title('Ventas totales por año de la consola Wii')\n",
        "plt.show()"
      ]
    },
    {
      "cell_type": "markdown",
      "metadata": {
        "id": "dDLtLzHuVjmY"
      },
      "source": [
        "Revisamos la consola **DS**"
      ]
    },
    {
      "cell_type": "code",
      "execution_count": null,
      "metadata": {
        "id": "Ev8FEiHdVjmY"
      },
      "outputs": [],
      "source": [
        "# Calculamos las ventas totales de la pataforma en función a los años\n",
        "ice_ds = ice[ice['platform']=='DS']\n",
        "ice_ds_sales = ice_ds.pivot_table(index='year_of_release', values='total_sales', aggfunc='sum').sort_index()"
      ]
    },
    {
      "cell_type": "code",
      "execution_count": null,
      "metadata": {
        "id": "PaWAZZyEVjmZ",
        "outputId": "d5102c47-b548-4200-e06b-e68dc455e5e1"
      },
      "outputs": [
        {
          "data": {
            "image/png": "[encoded data removed]",
            "text/plain": [
              "<Figure size 432x288 with 1 Axes>"
            ]
          },
          "metadata": {
            "needs_background": "light"
          },
          "output_type": "display_data"
        }
      ],
      "source": [
        "# Graficamos los datos\n",
        "\n",
        "ice_ds_sales.plot(kind='bar', grid=True)\n",
        "\n",
        "plt.xlabel('Años')\n",
        "plt.ylabel('Ventas en millones')\n",
        "plt.title('Ventas totales por año de la Nintendo DS')\n",
        "plt.show()"
      ]
    },
    {
      "cell_type": "markdown",
      "metadata": {
        "id": "t8rXKi85VjmZ"
      },
      "source": [
        "Por último revisamos la **PS**"
      ]
    },
    {
      "cell_type": "code",
      "execution_count": null,
      "metadata": {
        "id": "7GyuEKU8VjmZ"
      },
      "outputs": [],
      "source": [
        "# Calculamos las ventas totales de la pataforma en función a los años\n",
        "ice_ps = ice[ice['platform']=='PS']\n",
        "ice_ps_sales = ice_ps.pivot_table(index='year_of_release', values='total_sales', aggfunc='sum').sort_index()"
      ]
    },
    {
      "cell_type": "code",
      "execution_count": null,
      "metadata": {
        "id": "m-y6ZXGHVjmZ",
        "outputId": "dbf156c5-6efa-46f0-c7aa-6ad5c60fafb1"
      },
      "outputs": [
        {
          "data": {
            "image/png": "[encoded data removed]",
            "text/plain": [
              "<Figure size 432x288 with 1 Axes>"
            ]
          },
          "metadata": {
            "needs_background": "light"
          },
          "output_type": "display_data"
        }
      ],
      "source": [
        "# Graficamos los datos\n",
        "\n",
        "ice_ps_sales.plot(kind='bar', grid=True)\n",
        "\n",
        "plt.xlabel('Años')\n",
        "plt.ylabel('Ventas en millones')\n",
        "plt.title('Ventas totales por año de la PS')\n",
        "plt.show()"
      ]
    },
    {
      "cell_type": "markdown",
      "metadata": {
        "id": "Xesl0KO9VjmZ"
      },
      "source": [
        " - La **PS2** alcanzó sus mayores ventas entre los años 2001 y 2005, en algunos años superando los 200 millones.\n",
        "\n",
        "\n",
        " - Las consolas **X360** y **PS3** presentan comportamientos bastante similares. Esto puede deberse a que eran consolas que salieron en años muy cercanos y generaron bastante competencia entre ellas. Ambas alcanzaron sus ventas totales en los años 2010 y 2011.\n",
        "\n",
        "\n",
        " - La consola **Wii** se lanzó en la misma era que la X360 y PS3. Fue una consola bastante popular, y en el año 2009 llegó a superar los 200 millones. Como se puede ver en el gráfico, generó más ingresos totales en sus primeros años en comparación a la X360 y PS3.\n",
        "\n",
        " - La Nintendp **DS** es una consola que se lanzó el año 2004 y que generó su mayor cantidad de ingresos entre los años 2005 y 2010, superando en algunos años los 140 millones.\n",
        "\n",
        "\n",
        " - La **PS** se anzó en 1994 y alcanzó su mayor popularidad en el año 1998, alcanzando casi los 175 millones aquel año."
      ]
    },
    {
      "cell_type": "markdown",
      "metadata": {
        "id": "3AGqMsTHVjma"
      },
      "source": [
        "Ahora buscaremos las plataformas que solían ser populares pero que ahora no tienen ventas. Y veremos cuánto tardan generalmente las nuevas plataformas en aparecer y las antiguas en desaparecer."
      ]
    },
    {
      "cell_type": "code",
      "execution_count": null,
      "metadata": {
        "id": "JFI5l7yqVjma"
      },
      "outputs": [],
      "source": [
        "# Calculamos las ventas totales por año y por plataforma\n",
        "plat_sales2 = most_sales_plats.pivot_table(index='year_of_release', columns='platform', values='total_sales', aggfunc='sum')"
      ]
    },
    {
      "cell_type": "code",
      "execution_count": null,
      "metadata": {
        "scrolled": true,
        "id": "YpL97DUFVjma",
        "outputId": "4d9d15b0-18b1-40cf-a715-ee6a767273c2"
      },
      "outputs": [
        {
          "data": {
            "image/png": "[encoded data removed]",
            "text/plain": [
              "<Figure size 720x360 with 1 Axes>"
            ]
          },
          "metadata": {
            "needs_background": "light"
          },
          "output_type": "display_data"
        }
      ],
      "source": [
        "# Graficamos los datos\n",
        "plat_sales2.plot(figsize=(10,5))\n",
        "plt.title(\"Periodo de popularidad de las plataformas\")\n",
        "plt.show()"
      ]
    },
    {
      "cell_type": "markdown",
      "metadata": {
        "id": "EMIL4I9OVjma"
      },
      "source": [
        "Por medio de este gráfico podemos ver cómo cada consola alcanza su punto máximo de ventas y comienza a decaer a medida que avanzan los años y salen al mercado nuevas consolas.\n",
        "\n",
        " - Como se puede ver en los gráficos, las consolas tardan alrededor de 10 años en desaparecer.\n",
        "\n",
        "\n",
        " - Además, las consolas no se lanzan una después de otra, es decir, para el momento que una desaparece ya hay otra ganando popularidad. Por ejemplo, cuando las ventas de la PS estaban bajando, la popularidad de la PS2 subía. Esto se debe a que hay varias empresas desarrollando consolas."
      ]
    },
    {
      "cell_type": "markdown",
      "metadata": {
        "id": "o0teIlTeVjmb"
      },
      "source": [
        "### Ahora determinaremos para qué periodo tomaremos datos\n",
        "\n",
        "Esto nos permitirtá construir un modelo para 2017. Para esto visualizaremos la cantidad de juegos lanzados por año."
      ]
    },
    {
      "cell_type": "code",
      "execution_count": null,
      "metadata": {
        "scrolled": true,
        "id": "_kwmK-aZVjmb",
        "outputId": "2824163a-1eb4-41f8-8b61-40ca3a3daa11"
      },
      "outputs": [
        {
          "data": {
            "image/png": "[encoded data removed]",
            "text/plain": [
              "<Figure size 792x360 with 1 Axes>"
            ]
          },
          "metadata": {
            "needs_background": "light"
          },
          "output_type": "display_data"
        }
      ],
      "source": [
        "# Visualizamos los datos\n",
        "\n",
        "plt.figure(figsize = (11,5))\n",
        "games_per_year.plot(kind='bar', grid=True)\n",
        "plt.xlabel('Años')\n",
        "plt.ylabel('Juegos Lanzados')\n",
        "plt.title('Cantidad de Juegos Lanzados por Año')\n",
        "plt.show()"
      ]
    },
    {
      "cell_type": "markdown",
      "metadata": {
        "id": "jooWAP1XVjmb"
      },
      "source": [
        "Como podemos ver, los valores comienzan a ser más relevantes a partir del año **1995**, pero el objetivo con los datos es crear un modelo para el 2017, de este modo filtraremos la tabla desde el año 2012 en adelante."
      ]
    },
    {
      "cell_type": "markdown",
      "metadata": {
        "id": "f-GbAV1yVjmc"
      },
      "source": [
        "### Filtramos la tabla a partir del año seleccionado\n",
        "\n",
        "Aquí crearemos una tabla filtrada llamada **new_ice** con los datos a partir de 2012 en adelante."
      ]
    },
    {
      "cell_type": "code",
      "execution_count": null,
      "metadata": {
        "id": "MOnO8KywVjmc"
      },
      "outputs": [],
      "source": [
        "# Filtramos el DataFrame\n",
        "new_ice = ice[ice['year_of_release'] > 2011]"
      ]
    },
    {
      "cell_type": "code",
      "execution_count": null,
      "metadata": {
        "scrolled": false,
        "id": "rxYa51DDVjmc",
        "outputId": "d03016c7-fa6c-432e-db34-38b7f2ff45ac"
      },
      "outputs": [
        {
          "data": {
            "text/html": [
              "<div>\n",
              "<style scoped>\n",
              "    .dataframe tbody tr th:only-of-type {\n",
              "        vertical-align: middle;\n",
              "    }\n",
              "\n",
              "    .dataframe tbody tr th {\n",
              "        vertical-align: top;\n",
              "    }\n",
              "\n",
              "    .dataframe thead th {\n",
              "        text-align: right;\n",
              "    }\n",
              "</style>\n",
              "<table border=\"1\" class=\"dataframe\">\n",
              "  <thead>\n",
              "    <tr style=\"text-align: right;\">\n",
              "      <th></th>\n",
              "      <th>name</th>\n",
              "      <th>platform</th>\n",
              "      <th>year_of_release</th>\n",
              "      <th>genre</th>\n",
              "      <th>na_sales</th>\n",
              "      <th>eu_sales</th>\n",
              "      <th>jp_sales</th>\n",
              "      <th>other_sales</th>\n",
              "      <th>critic_score</th>\n",
              "      <th>user_score</th>\n",
              "      <th>rating</th>\n",
              "      <th>total_sales</th>\n",
              "    </tr>\n",
              "  </thead>\n",
              "  <tbody>\n",
              "    <tr>\n",
              "      <th>16</th>\n",
              "      <td>Grand Theft Auto V</td>\n",
              "      <td>PS3</td>\n",
              "      <td>2013</td>\n",
              "      <td>Action</td>\n",
              "      <td>7.02</td>\n",
              "      <td>9.09</td>\n",
              "      <td>0.98</td>\n",
              "      <td>3.96</td>\n",
              "      <td>97.0</td>\n",
              "      <td>8.2</td>\n",
              "      <td>M</td>\n",
              "      <td>21.05</td>\n",
              "    </tr>\n",
              "    <tr>\n",
              "      <th>23</th>\n",
              "      <td>Grand Theft Auto V</td>\n",
              "      <td>X360</td>\n",
              "      <td>2013</td>\n",
              "      <td>Action</td>\n",
              "      <td>9.66</td>\n",
              "      <td>5.14</td>\n",
              "      <td>0.06</td>\n",
              "      <td>1.41</td>\n",
              "      <td>97.0</td>\n",
              "      <td>8.1</td>\n",
              "      <td>M</td>\n",
              "      <td>16.27</td>\n",
              "    </tr>\n",
              "    <tr>\n",
              "      <th>31</th>\n",
              "      <td>Call of Duty: Black Ops 3</td>\n",
              "      <td>PS4</td>\n",
              "      <td>2015</td>\n",
              "      <td>Shooter</td>\n",
              "      <td>6.03</td>\n",
              "      <td>5.86</td>\n",
              "      <td>0.36</td>\n",
              "      <td>2.38</td>\n",
              "      <td>NaN</td>\n",
              "      <td>NaN</td>\n",
              "      <td>M</td>\n",
              "      <td>14.63</td>\n",
              "    </tr>\n",
              "    <tr>\n",
              "      <th>33</th>\n",
              "      <td>Pokemon X/Pokemon Y</td>\n",
              "      <td>3DS</td>\n",
              "      <td>2013</td>\n",
              "      <td>Role-Playing</td>\n",
              "      <td>5.28</td>\n",
              "      <td>4.19</td>\n",
              "      <td>4.35</td>\n",
              "      <td>0.78</td>\n",
              "      <td>NaN</td>\n",
              "      <td>NaN</td>\n",
              "      <td>T</td>\n",
              "      <td>14.60</td>\n",
              "    </tr>\n",
              "    <tr>\n",
              "      <th>34</th>\n",
              "      <td>Call of Duty: Black Ops II</td>\n",
              "      <td>PS3</td>\n",
              "      <td>2012</td>\n",
              "      <td>Shooter</td>\n",
              "      <td>4.99</td>\n",
              "      <td>5.73</td>\n",
              "      <td>0.65</td>\n",
              "      <td>2.42</td>\n",
              "      <td>83.0</td>\n",
              "      <td>5.3</td>\n",
              "      <td>M</td>\n",
              "      <td>13.79</td>\n",
              "    </tr>\n",
              "  </tbody>\n",
              "</table>\n",
              "</div>"
            ],
            "text/plain": [
              "                          name platform  year_of_release         genre  \\\n",
              "16          Grand Theft Auto V      PS3             2013        Action   \n",
              "23          Grand Theft Auto V     X360             2013        Action   \n",
              "31   Call of Duty: Black Ops 3      PS4             2015       Shooter   \n",
              "33         Pokemon X/Pokemon Y      3DS             2013  Role-Playing   \n",
              "34  Call of Duty: Black Ops II      PS3             2012       Shooter   \n",
              "\n",
              "    na_sales  eu_sales  jp_sales  other_sales  critic_score  user_score  \\\n",
              "16      7.02      9.09      0.98         3.96          97.0         8.2   \n",
              "23      9.66      5.14      0.06         1.41          97.0         8.1   \n",
              "31      6.03      5.86      0.36         2.38           NaN         NaN   \n",
              "33      5.28      4.19      4.35         0.78           NaN         NaN   \n",
              "34      4.99      5.73      0.65         2.42          83.0         5.3   \n",
              "\n",
              "   rating  total_sales  \n",
              "16      M        21.05  \n",
              "23      M        16.27  \n",
              "31      M        14.63  \n",
              "33      T        14.60  \n",
              "34      M        13.79  "
            ]
          },
          "execution_count": 60,
          "metadata": {},
          "output_type": "execute_result"
        }
      ],
      "source": [
        "# Revisamos el DataFrame\n",
        "new_ice.head()"
      ]
    },
    {
      "cell_type": "markdown",
      "metadata": {
        "id": "ZHw1Z-nxVjmc"
      },
      "source": [
        "### ¿Qué plataformas son líderes en ventas?"
      ]
    },
    {
      "cell_type": "markdown",
      "metadata": {
        "id": "Fi20d_wDVjmc"
      },
      "source": [
        "Aquí veremos ¿qué plataformas son líderes en ventas?, ¿cuáles crecen y cuáles se reducen? Además, elegiremos varias plataformas potencialmente rentables. Para responder a estas preguntas graficaremos las ventas totales por año y por plataforma."
      ]
    },
    {
      "cell_type": "code",
      "execution_count": null,
      "metadata": {
        "id": "ghSrlhG8Vjmc",
        "outputId": "baea1498-0628-424c-c6dc-d61e0ed64cd0"
      },
      "outputs": [
        {
          "data": {
            "image/png": "[encoded data removed]",
            "text/plain": [
              "<Figure size 1080x576 with 1 Axes>"
            ]
          },
          "metadata": {
            "needs_background": "light"
          },
          "output_type": "display_data"
        }
      ],
      "source": [
        "# Graficamos las ventas totales por año y por plataforma\n",
        "plat_sales3 = new_ice.pivot_table(index='year_of_release', columns='platform', values='total_sales', aggfunc='sum')\n",
        "plat_sales3.plot(figsize=(15,8))\n",
        "plt.xlabel(\"Años\")\n",
        "plt.ylabel(\"Ventas en millones\")\n",
        "plt.title(\"Ventas Totales por Año y por Plataforma\")\n",
        "plt.show()"
      ]
    },
    {
      "cell_type": "code",
      "execution_count": null,
      "metadata": {
        "scrolled": true,
        "id": "T6Toq4_pVjmc",
        "outputId": "81b0ded7-a062-4dac-f2da-b28e7bc89560"
      },
      "outputs": [
        {
          "name": "stdout",
          "output_type": "stream",
          "text": [
            "\n",
            "1. Las plataformas líderes en ventas son las siguientes:\n"
          ]
        },
        {
          "data": {
            "text/html": [
              "<div>\n",
              "<style scoped>\n",
              "    .dataframe tbody tr th:only-of-type {\n",
              "        vertical-align: middle;\n",
              "    }\n",
              "\n",
              "    .dataframe tbody tr th {\n",
              "        vertical-align: top;\n",
              "    }\n",
              "\n",
              "    .dataframe thead th {\n",
              "        text-align: right;\n",
              "    }\n",
              "</style>\n",
              "<table border=\"1\" class=\"dataframe\">\n",
              "  <thead>\n",
              "    <tr style=\"text-align: right;\">\n",
              "      <th></th>\n",
              "      <th>total_sales</th>\n",
              "    </tr>\n",
              "    <tr>\n",
              "      <th>platform</th>\n",
              "      <th></th>\n",
              "    </tr>\n",
              "  </thead>\n",
              "  <tbody>\n",
              "    <tr>\n",
              "      <th>PS4</th>\n",
              "      <td>314.14</td>\n",
              "    </tr>\n",
              "    <tr>\n",
              "      <th>PS3</th>\n",
              "      <td>288.79</td>\n",
              "    </tr>\n",
              "    <tr>\n",
              "      <th>X360</th>\n",
              "      <td>236.54</td>\n",
              "    </tr>\n",
              "    <tr>\n",
              "      <th>3DS</th>\n",
              "      <td>194.61</td>\n",
              "    </tr>\n",
              "    <tr>\n",
              "      <th>XOne</th>\n",
              "      <td>159.32</td>\n",
              "    </tr>\n",
              "  </tbody>\n",
              "</table>\n",
              "</div>"
            ],
            "text/plain": [
              "          total_sales\n",
              "platform             \n",
              "PS4            314.14\n",
              "PS3            288.79\n",
              "X360           236.54\n",
              "3DS            194.61\n",
              "XOne           159.32"
            ]
          },
          "execution_count": 62,
          "metadata": {},
          "output_type": "execute_result"
        }
      ],
      "source": [
        "# Revisamos las ventas totales por plataforma\n",
        "print()\n",
        "print(\"1. Las plataformas líderes en ventas son las siguientes:\")\n",
        "new_ice.pivot_table(index='platform', values='total_sales', aggfunc='sum').sort_values(by='total_sales', ascending=False).head(5)"
      ]
    },
    {
      "cell_type": "markdown",
      "metadata": {
        "id": "iwIEIP9bVjmd"
      },
      "source": [
        "2. A través del tiempo la mayoría delas plataformas tienen un perioro de popularidad y luego se reducen, debido a que van saliendo nuevas consolas y nuevos juegos.\n",
        "\n",
        "3. Pensamos que las plataformas potencialmente rentables son las de nintendo, con consolas como WiiU y 3DS, las consolas de la línea Play Station, tales como PS3, PS4, PS5, etc, y la línea Xbox, como XOne y X360, ya que son consolas que se van actualizando con los años y son líderes en ventas."
      ]
    },
    {
      "cell_type": "markdown",
      "metadata": {
        "id": "Yht5Vg0vVjmd"
      },
      "source": [
        "### Creamos un diagrama de caja para las ventas globales de todos los juegos, desglosados por plataforma\n",
        "\n",
        "Aquí responderemos a las siguientes inógnitas: ¿Son significativas las diferencias en las ventas?, ¿qué sucede con las ventas promedio en varias plataformas?"
      ]
    },
    {
      "cell_type": "code",
      "execution_count": null,
      "metadata": {
        "scrolled": false,
        "id": "1XRCa7znVjmd",
        "outputId": "196eb706-6d09-4a27-8157-50b0818f4898"
      },
      "outputs": [
        {
          "data": {
            "image/png": "[encoded data removed]",
            "text/plain": [
              "<Figure size 1152x432 with 1 Axes>"
            ]
          },
          "metadata": {
            "needs_background": "light"
          },
          "output_type": "display_data"
        }
      ],
      "source": [
        "# graficamos el diagrama de caja de las ventas globales por plataforma\n",
        "plt.figure(figsize=(16, 6))\n",
        "sns.boxplot(data=new_ice, x='platform', y='total_sales')\n",
        "plt.xlabel('Plataformas')\n",
        "plt.ylabel('Ventas globales')\n",
        "plt.title('Ventas Globales por Plataforma')\n",
        "# con plt.ylim vemos las cajas más de cerca\n",
        "plt.ylim(bottom=0, top=new_ice['total_sales'].max() * 0.10)\n",
        "plt.show()"
      ]
    },
    {
      "cell_type": "markdown",
      "metadata": {
        "id": "moLLW9hrVjmd"
      },
      "source": [
        " - 1. En el gráfico podemos ver una clara diferencia entre las ventas de las plataformas líderes y otras consolas."
      ]
    },
    {
      "cell_type": "code",
      "execution_count": null,
      "metadata": {
        "scrolled": false,
        "id": "1xQKRl_rVjme",
        "outputId": "3f740091-5abe-45e8-9376-5f8797c7e51e"
      },
      "outputs": [
        {
          "data": {
            "text/html": [
              "<div>\n",
              "<style scoped>\n",
              "    .dataframe tbody tr th:only-of-type {\n",
              "        vertical-align: middle;\n",
              "    }\n",
              "\n",
              "    .dataframe tbody tr th {\n",
              "        vertical-align: top;\n",
              "    }\n",
              "\n",
              "    .dataframe thead th {\n",
              "        text-align: right;\n",
              "    }\n",
              "</style>\n",
              "<table border=\"1\" class=\"dataframe\">\n",
              "  <thead>\n",
              "    <tr style=\"text-align: right;\">\n",
              "      <th></th>\n",
              "      <th>total_sales</th>\n",
              "    </tr>\n",
              "    <tr>\n",
              "      <th>platform</th>\n",
              "      <th></th>\n",
              "    </tr>\n",
              "  </thead>\n",
              "  <tbody>\n",
              "    <tr>\n",
              "      <th>X360</th>\n",
              "      <td>0.810068</td>\n",
              "    </tr>\n",
              "    <tr>\n",
              "      <th>PS4</th>\n",
              "      <td>0.801378</td>\n",
              "    </tr>\n",
              "    <tr>\n",
              "      <th>Wii</th>\n",
              "      <td>0.655000</td>\n",
              "    </tr>\n",
              "    <tr>\n",
              "      <th>XOne</th>\n",
              "      <td>0.645020</td>\n",
              "    </tr>\n",
              "    <tr>\n",
              "      <th>PS3</th>\n",
              "      <td>0.585781</td>\n",
              "    </tr>\n",
              "    <tr>\n",
              "      <th>WiiU</th>\n",
              "      <td>0.559116</td>\n",
              "    </tr>\n",
              "    <tr>\n",
              "      <th>3DS</th>\n",
              "      <td>0.491439</td>\n",
              "    </tr>\n",
              "    <tr>\n",
              "      <th>DS</th>\n",
              "      <td>0.404839</td>\n",
              "    </tr>\n",
              "    <tr>\n",
              "      <th>PC</th>\n",
              "      <td>0.250600</td>\n",
              "    </tr>\n",
              "    <tr>\n",
              "      <th>PSV</th>\n",
              "      <td>0.119659</td>\n",
              "    </tr>\n",
              "    <tr>\n",
              "      <th>PSP</th>\n",
              "      <td>0.064682</td>\n",
              "    </tr>\n",
              "  </tbody>\n",
              "</table>\n",
              "</div>"
            ],
            "text/plain": [
              "          total_sales\n",
              "platform             \n",
              "X360         0.810068\n",
              "PS4          0.801378\n",
              "Wii          0.655000\n",
              "XOne         0.645020\n",
              "PS3          0.585781\n",
              "WiiU         0.559116\n",
              "3DS          0.491439\n",
              "DS           0.404839\n",
              "PC           0.250600\n",
              "PSV          0.119659\n",
              "PSP          0.064682"
            ]
          },
          "execution_count": 64,
          "metadata": {},
          "output_type": "execute_result"
        }
      ],
      "source": [
        "# Mostramos las ventas promedio por plataforma\n",
        "new_ice.pivot_table(index='platform', values='total_sales').sort_values('total_sales', ascending=False)"
      ]
    },
    {
      "cell_type": "markdown",
      "metadata": {
        "id": "ZH81-OgjVjme"
      },
      "source": [
        " - 2. En este caso las plataformas líderes mencionadas anteriormente tienen los promedios de ventas más altos."
      ]
    },
    {
      "cell_type": "markdown",
      "metadata": {
        "id": "K7CH8xFGVjme"
      },
      "source": [
        "### Ahora veremos cómo las reseñas de usuarios y profesionales afectan las ventas de una plataforma popular\n",
        "\n",
        "Para esto utilizaremos la plataforma PS4. Crearemos un gráfico de dispersión y calcularemos la correlación entre las reseñas y las ventas, y sacaremos conclusiones a partir de esto."
      ]
    },
    {
      "cell_type": "code",
      "execution_count": null,
      "metadata": {
        "id": "B8cGw-2rVjme"
      },
      "outputs": [],
      "source": [
        "# Filtramos nuestra tabla por la consola PS3\n",
        "new_ice_ps4 = new_ice[new_ice['platform']=='PS4']"
      ]
    },
    {
      "cell_type": "code",
      "execution_count": null,
      "metadata": {
        "scrolled": true,
        "id": "oU51NEoAVjmf",
        "outputId": "56db32e5-46fc-4591-92fb-3c2423ac5e32"
      },
      "outputs": [
        {
          "data": {
            "image/png": "[encoded data removed]",
            "text/plain": [
              "<Figure size 576x360 with 2 Axes>"
            ]
          },
          "metadata": {
            "needs_background": "light"
          },
          "output_type": "display_data"
        }
      ],
      "source": [
        "plt.figure(figsize=(8, 5))\n",
        "plt.scatter(new_ice_ps4['critic_score'], new_ice_ps4['user_score'], c=new_ice_ps4['total_sales'], cmap='coolwarm')\n",
        "\n",
        "plt.xlabel('Puntuación de Críticos')\n",
        "plt.ylabel('Puntuación de Usuarios')\n",
        "plt.title('Reseñas vs. Ventas: Plataforma')\n",
        "plt.colorbar(label='Ventas totales')\n",
        "\n",
        "plt.show()"
      ]
    },
    {
      "cell_type": "code",
      "execution_count": null,
      "metadata": {
        "id": "XshcpMi5Vjmf",
        "outputId": "d038318f-ade7-4ecd-c639-e56483a0460a"
      },
      "outputs": [
        {
          "data": {
            "image/png": "[encoded data removed]",
            "text/plain": [
              "<Figure size 576x432 with 2 Axes>"
            ]
          },
          "metadata": {
            "needs_background": "light"
          },
          "output_type": "display_data"
        }
      ],
      "source": [
        "# Graficamos las correlaciones entre las reseñas y las ventas\n",
        "corr = new_ice_ps4[['critic_score', 'user_score', 'total_sales']].corr()\n",
        "plt.figure(figsize=(8,6))\n",
        "sns.heatmap(corr, annot=True, cmap= \"coolwarm\")\n",
        "plt.title('Correlación entre reseñas y ventas')\n",
        "plt.show()"
      ]
    },
    {
      "cell_type": "markdown",
      "metadata": {
        "id": "Q-s2hQirVjmf"
      },
      "source": [
        " Al observar el gráfico de dispersión podemos ver que, tanto para **'critic_score'** y **'user_score'**, mientras más alta es la reseña, mayores son las ventas.\n",
        "\n",
        "Por otro lado, el gráfico de correlación nos indica lo siguiente:\n",
        "\n",
        " - 1. La correlación entre **critic_score** y **total_sales** es de 0.41, esto es una correlación positiva moderada. Esto sugiere que a medida que la puntuación de los criticos aumenta, las ventas de los juegos de PS2 también aumenta.\n",
        " - 2. La correlación entre **user_score** y **total_sales** es de -0.032. Esto nos indica una correlación bastante débil. En otras palabras, **user_score** no parece tener un impacto sustancial en las ventas totales de los juegos.\n",
        "Con esto podemos concluir que, para la plataforma PS4, las puntuaciones de los críticos tienen una mayor importancia para los consumidores al momento de adquirir juegos."
      ]
    },
    {
      "cell_type": "markdown",
      "metadata": {
        "id": "uq0C8UJRVjmf"
      },
      "source": [
        "###  Comparamos las ventas de los mismos juegos en otras plataformas.\n",
        "\n",
        "Para esto seleccionaremos 3 juegos que se hayan vendido en 3 plataformas y compararemos sus ventas."
      ]
    },
    {
      "cell_type": "markdown",
      "metadata": {
        "id": "KdIDtU_WVjmf"
      },
      "source": [
        "Seleccionamos las plataformas:\n",
        " - 1.X360\n",
        " - 2.PC\n",
        " - 3.PS3"
      ]
    },
    {
      "cell_type": "markdown",
      "metadata": {
        "id": "oMfjtW0xVjmf"
      },
      "source": [
        "Seleccionaremos los juegos:\n",
        " - 1. Grand Theft Auto V\n",
        " - 2. Borderlands 2\n",
        " - 3. Call of Duty: Black Ops II"
      ]
    },
    {
      "cell_type": "code",
      "execution_count": null,
      "metadata": {
        "id": "fiKDOMNpVjmg"
      },
      "outputs": [],
      "source": [
        "# Filtramos por plataformas seleccionadas\n",
        "name_plat_new_ice = new_ice[(new_ice['platform'].isin(['X360', 'PC', 'PS3']))\n",
        "& (new_ice['name'].isin(['Call of Duty: Black Ops II', 'Borderlands 2', 'Grand Theft Auto V']))]"
      ]
    },
    {
      "cell_type": "code",
      "execution_count": null,
      "metadata": {
        "id": "PIgEARvZVjmg",
        "outputId": "a1b631bd-132e-4b93-f39e-240d47136806"
      },
      "outputs": [
        {
          "data": {
            "image/png": "[encoded data removed]",
            "text/plain": [
              "<Figure size 720x432 with 1 Axes>"
            ]
          },
          "metadata": {
            "needs_background": "light"
          },
          "output_type": "display_data"
        }
      ],
      "source": [
        "plt.figure(figsize=(10, 6))\n",
        "plt.bar(name_plat_new_ice['platform'], name_plat_new_ice['total_sales'])\n",
        "\n",
        "plt.xlabel('Plataforma')\n",
        "plt.ylabel('Ventas totales')\n",
        "plt.title('Comparación de Ventas por Juego en Diferentes Plataformas')\n",
        "\n",
        "plt.show()"
      ]
    },
    {
      "cell_type": "markdown",
      "metadata": {
        "id": "YPrte9nbVjmg"
      },
      "source": [
        "Aquí podemos ver las ventas de las plataformas para 3 juegos, y se puede ver que para estos 3 casos PS3 vendió más que la X360. Los juegos de PC fueron los menos vendidos.\n",
        "\n",
        "Además sería interesante ver esta comparación por juego de manera individual."
      ]
    },
    {
      "cell_type": "markdown",
      "metadata": {
        "id": "ydDtgL7XVjmg"
      },
      "source": [
        "1. Vemos las ventas por plataforma para **'Grand Theft Auto V'**."
      ]
    },
    {
      "cell_type": "code",
      "execution_count": null,
      "metadata": {
        "id": "NA6AtmieVjmg"
      },
      "outputs": [],
      "source": [
        "# Filtramos por plataformas y el juego 'Dead_Space'\n",
        "name_plat_ds = new_ice[(new_ice['platform'].isin(['X360', 'PC', 'PS3']))\n",
        "& (new_ice['name']=='Grand Theft Auto V')]"
      ]
    },
    {
      "cell_type": "code",
      "execution_count": null,
      "metadata": {
        "id": "03XiCcQhVjmh",
        "outputId": "7602b62a-9206-48cc-a3f0-a24afa08576d"
      },
      "outputs": [
        {
          "data": {
            "image/png": "[encoded data removed]",
            "text/plain": [
              "<Figure size 720x432 with 1 Axes>"
            ]
          },
          "metadata": {
            "needs_background": "light"
          },
          "output_type": "display_data"
        }
      ],
      "source": [
        "# Graficamos\n",
        "plt.figure(figsize=(10, 6))\n",
        "plt.bar(name_plat_ds['platform'], name_plat_ds['total_sales'])\n",
        "\n",
        "plt.xlabel('Plataforma')\n",
        "plt.ylabel('Ventas totales')\n",
        "plt.title('Comparación de Ventas por el Juego Grand Theft Auto V')\n",
        "\n",
        "plt.show()"
      ]
    },
    {
      "cell_type": "markdown",
      "metadata": {
        "id": "qGotg6opVjmh"
      },
      "source": [
        "2. Ahora veremos las ventas por plataforma para **'Call of Duty: Black Ops II'**."
      ]
    },
    {
      "cell_type": "code",
      "execution_count": null,
      "metadata": {
        "id": "fgN0FNiQVjmh"
      },
      "outputs": [],
      "source": [
        "# Filtramos por plataformas y el juego 'Call of Duty: Black Ops II'\n",
        "name_plat_me = new_ice[(new_ice['platform'].isin(['X360', 'PC', 'PS3']))\n",
        "& (new_ice['name']=='Call of Duty: Black Ops II')]"
      ]
    },
    {
      "cell_type": "code",
      "execution_count": null,
      "metadata": {
        "id": "tn5mCn7aVjmh",
        "outputId": "b5266784-e353-44f5-f49b-619fa5dbd759"
      },
      "outputs": [
        {
          "data": {
            "image/png": "[encoded data removed]",
            "text/plain": [
              "<Figure size 720x432 with 1 Axes>"
            ]
          },
          "metadata": {
            "needs_background": "light"
          },
          "output_type": "display_data"
        }
      ],
      "source": [
        "# Graficamos\n",
        "plt.figure(figsize=(10, 6))\n",
        "plt.bar(name_plat_me['platform'], name_plat_me['total_sales'])\n",
        "\n",
        "plt.xlabel('Plataforma')\n",
        "plt.ylabel('Ventas totales')\n",
        "plt.title('Comparación de Ventas por el Call of Duty: Black Ops II')\n",
        "\n",
        "plt.show()"
      ]
    },
    {
      "cell_type": "markdown",
      "metadata": {
        "id": "Dc0pR9-yVjmh"
      },
      "source": [
        "3. Continuamos con el juego **'Borderlands 2'**."
      ]
    },
    {
      "cell_type": "code",
      "execution_count": null,
      "metadata": {
        "id": "hhy0lXwGVjmi"
      },
      "outputs": [],
      "source": [
        "# Filtramos por plataformas y el juego 'Borderlands 2'\n",
        "name_plat_bl2 = new_ice[(new_ice['platform'].isin(['X360', 'PC', 'PS3']))\n",
        "& (new_ice['name']=='Borderlands 2')]"
      ]
    },
    {
      "cell_type": "code",
      "execution_count": null,
      "metadata": {
        "id": "i4UppbguVjmi",
        "outputId": "9c86a05a-74bb-4367-d06b-fb68b95b390c"
      },
      "outputs": [
        {
          "data": {
            "image/png": "[encoded data removed]",
            "text/plain": [
              "<Figure size 720x432 with 1 Axes>"
            ]
          },
          "metadata": {
            "needs_background": "light"
          },
          "output_type": "display_data"
        }
      ],
      "source": [
        "# Graficamos\n",
        "plt.figure(figsize=(10, 6))\n",
        "plt.bar(name_plat_bl2['platform'], name_plat_bl2['total_sales'])\n",
        "\n",
        "plt.xlabel('Plataforma')\n",
        "plt.ylabel('Ventas totales')\n",
        "plt.title('Comparación de Ventas por el Juego Borderlands 2')\n",
        "\n",
        "plt.show()"
      ]
    },
    {
      "cell_type": "markdown",
      "metadata": {
        "id": "eDk4efSJVjmi"
      },
      "source": [
        "Como podemos ver por medio de los gráficos, para estos casos, la plataforma **PC** es la que menos juegos vende. En el caso de **PS3** y **X360** pudimos notar que algunos juegos se venden más en PS3 que en X360, y viceversa. Esto está muy sujeto a los gustos de los consumidores por las plataforma, entre otros factores."
      ]
    },
    {
      "cell_type": "markdown",
      "metadata": {
        "id": "o5-gCA4nVjmi"
      },
      "source": [
        "#### Por último sería interesante ver las ventas totales de estas 3 plataformas."
      ]
    },
    {
      "cell_type": "code",
      "execution_count": null,
      "metadata": {
        "id": "jpHKDiQiVjmi"
      },
      "outputs": [],
      "source": [
        "# Filtramos por las 3 plataformas\n",
        "total_plat_new_ice = new_ice[new_ice['platform'].isin(['X360', 'PC', 'PS3'])]"
      ]
    },
    {
      "cell_type": "code",
      "execution_count": null,
      "metadata": {
        "id": "sI1o90FWVjmi",
        "outputId": "d735b1b8-78b6-478a-cbbe-ca933c82d08f"
      },
      "outputs": [
        {
          "data": {
            "image/png": "[encoded data removed]",
            "text/plain": [
              "<Figure size 720x432 with 1 Axes>"
            ]
          },
          "metadata": {
            "needs_background": "light"
          },
          "output_type": "display_data"
        }
      ],
      "source": [
        "# Graficamos\n",
        "plt.figure(figsize=(10, 6))\n",
        "plt.bar(total_plat_new_ice['platform'], total_plat_new_ice['total_sales'])\n",
        "\n",
        "plt.xlabel('Plataforma')\n",
        "plt.ylabel('Ventas totales')\n",
        "plt.title('Comparación de Ventas Totales por Plataforma')\n",
        "\n",
        "plt.show()"
      ]
    },
    {
      "cell_type": "markdown",
      "metadata": {
        "id": "nGnGhuN3Vjmj"
      },
      "source": [
        "para estos casos **las ventas totales de X360 son menores a las de PS3**. Mientras que **las ventas para los juegos de pc no superaron los 10 millones**. Cabe resaltar que tanto la X360 y la PS3 tienen en gran medida los mismos títulos. De este modo, esta tabla sería más realista comparando las ventas por todos los títulos posibles."
      ]
    },
    {
      "cell_type": "markdown",
      "metadata": {
        "id": "NeYTb90QVjmj"
      },
      "source": [
        "### Estudia la distribución general de los juegos por género\n",
        "\n",
        "Ahora responderemos a las siguientes incógnitas: ¿Qué se puede decir de los géneros más rentables? ¿Se puede generalizar acerca de los géneros con ventas altas y bajas?"
      ]
    },
    {
      "cell_type": "code",
      "execution_count": null,
      "metadata": {
        "scrolled": false,
        "id": "0Vchg8SWVjmk",
        "outputId": "02f82f89-cc61-4b8b-ab75-9c59b297a1a5"
      },
      "outputs": [
        {
          "data": {
            "text/html": [
              "<div>\n",
              "<style scoped>\n",
              "    .dataframe tbody tr th:only-of-type {\n",
              "        vertical-align: middle;\n",
              "    }\n",
              "\n",
              "    .dataframe tbody tr th {\n",
              "        vertical-align: top;\n",
              "    }\n",
              "\n",
              "    .dataframe thead th {\n",
              "        text-align: right;\n",
              "    }\n",
              "</style>\n",
              "<table border=\"1\" class=\"dataframe\">\n",
              "  <thead>\n",
              "    <tr style=\"text-align: right;\">\n",
              "      <th></th>\n",
              "      <th>total_sales</th>\n",
              "    </tr>\n",
              "    <tr>\n",
              "      <th>genre</th>\n",
              "      <th></th>\n",
              "    </tr>\n",
              "  </thead>\n",
              "  <tbody>\n",
              "    <tr>\n",
              "      <th>Puzzle</th>\n",
              "      <td>4.89</td>\n",
              "    </tr>\n",
              "    <tr>\n",
              "      <th>Strategy</th>\n",
              "      <td>13.34</td>\n",
              "    </tr>\n",
              "    <tr>\n",
              "      <th>Adventure</th>\n",
              "      <td>29.43</td>\n",
              "    </tr>\n",
              "    <tr>\n",
              "      <th>Simulation</th>\n",
              "      <td>35.12</td>\n",
              "    </tr>\n",
              "    <tr>\n",
              "      <th>Fighting</th>\n",
              "      <td>44.49</td>\n",
              "    </tr>\n",
              "    <tr>\n",
              "      <th>Racing</th>\n",
              "      <td>53.50</td>\n",
              "    </tr>\n",
              "    <tr>\n",
              "      <th>Platform</th>\n",
              "      <td>61.00</td>\n",
              "    </tr>\n",
              "    <tr>\n",
              "      <th>Misc</th>\n",
              "      <td>85.04</td>\n",
              "    </tr>\n",
              "    <tr>\n",
              "      <th>Sports</th>\n",
              "      <td>181.07</td>\n",
              "    </tr>\n",
              "    <tr>\n",
              "      <th>Role-Playing</th>\n",
              "      <td>192.80</td>\n",
              "    </tr>\n",
              "    <tr>\n",
              "      <th>Shooter</th>\n",
              "      <td>304.73</td>\n",
              "    </tr>\n",
              "    <tr>\n",
              "      <th>Action</th>\n",
              "      <td>441.12</td>\n",
              "    </tr>\n",
              "  </tbody>\n",
              "</table>\n",
              "</div>"
            ],
            "text/plain": [
              "              total_sales\n",
              "genre                    \n",
              "Puzzle               4.89\n",
              "Strategy            13.34\n",
              "Adventure           29.43\n",
              "Simulation          35.12\n",
              "Fighting            44.49\n",
              "Racing              53.50\n",
              "Platform            61.00\n",
              "Misc                85.04\n",
              "Sports             181.07\n",
              "Role-Playing       192.80\n",
              "Shooter            304.73\n",
              "Action             441.12"
            ]
          },
          "execution_count": 78,
          "metadata": {},
          "output_type": "execute_result"
        }
      ],
      "source": [
        "# Mostramos las ventas totales por género\n",
        "new_ice_gen = new_ice.pivot_table(index='genre', values='total_sales', aggfunc='sum').sort_values(by='total_sales')\n",
        "new_ice_gen"
      ]
    },
    {
      "cell_type": "code",
      "execution_count": null,
      "metadata": {
        "scrolled": true,
        "id": "0cJf5iMXVjmk",
        "outputId": "8b1b2040-a356-404d-8fee-b169295b1b9b"
      },
      "outputs": [
        {
          "data": {
            "image/png": "[encoded data removed]",
            "text/plain": [
              "<Figure size 432x288 with 1 Axes>"
            ]
          },
          "metadata": {
            "needs_background": "light"
          },
          "output_type": "display_data"
        }
      ],
      "source": [
        "# Visualizamos la distribución de las ventas totales por género\n",
        "new_ice_gen.plot(kind='bar', grid=True)\n",
        "plt.xlabel('géneros')\n",
        "plt.ylabel('Ventas totales en millones')\n",
        "plt.title('Distribución de las Ventas Totales por Género')\n",
        "plt.show()"
      ]
    },
    {
      "cell_type": "markdown",
      "metadata": {
        "id": "gMnoTzdeVjml"
      },
      "source": [
        "Al observar el gráfico podemos ver que:\n",
        " - Los géneros más rentables son 'Sooter' y 'Action', superando los 300 millones, y en el caso de 'Action' superando los 400 millones, es decir, son los géneros más rentables.\n",
        " - Y 'Puzzle', 'Strategy' y 'Adventure' son los menos rentables."
      ]
    },
    {
      "cell_type": "code",
      "execution_count": null,
      "metadata": {
        "scrolled": false,
        "id": "XNQpCYVvVjml",
        "outputId": "8bcbb1f3-aaef-416c-ece1-35416bf3790e"
      },
      "outputs": [
        {
          "data": {
            "text/html": [
              "<div>\n",
              "<style scoped>\n",
              "    .dataframe tbody tr th:only-of-type {\n",
              "        vertical-align: middle;\n",
              "    }\n",
              "\n",
              "    .dataframe tbody tr th {\n",
              "        vertical-align: top;\n",
              "    }\n",
              "\n",
              "    .dataframe thead th {\n",
              "        text-align: right;\n",
              "    }\n",
              "</style>\n",
              "<table border=\"1\" class=\"dataframe\">\n",
              "  <thead>\n",
              "    <tr style=\"text-align: right;\">\n",
              "      <th></th>\n",
              "      <th>total_sales</th>\n",
              "    </tr>\n",
              "    <tr>\n",
              "      <th>genre</th>\n",
              "      <th></th>\n",
              "    </tr>\n",
              "  </thead>\n",
              "  <tbody>\n",
              "    <tr>\n",
              "      <th>Puzzle</th>\n",
              "      <td>28</td>\n",
              "    </tr>\n",
              "    <tr>\n",
              "      <th>Strategy</th>\n",
              "      <td>71</td>\n",
              "    </tr>\n",
              "    <tr>\n",
              "      <th>Simulation</th>\n",
              "      <td>80</td>\n",
              "    </tr>\n",
              "    <tr>\n",
              "      <th>Platform</th>\n",
              "      <td>85</td>\n",
              "    </tr>\n",
              "    <tr>\n",
              "      <th>Fighting</th>\n",
              "      <td>109</td>\n",
              "    </tr>\n",
              "    <tr>\n",
              "      <th>Racing</th>\n",
              "      <td>115</td>\n",
              "    </tr>\n",
              "    <tr>\n",
              "      <th>Misc</th>\n",
              "      <td>192</td>\n",
              "    </tr>\n",
              "    <tr>\n",
              "      <th>Shooter</th>\n",
              "      <td>235</td>\n",
              "    </tr>\n",
              "    <tr>\n",
              "      <th>Sports</th>\n",
              "      <td>268</td>\n",
              "    </tr>\n",
              "    <tr>\n",
              "      <th>Adventure</th>\n",
              "      <td>302</td>\n",
              "    </tr>\n",
              "    <tr>\n",
              "      <th>Role-Playing</th>\n",
              "      <td>370</td>\n",
              "    </tr>\n",
              "    <tr>\n",
              "      <th>Action</th>\n",
              "      <td>1031</td>\n",
              "    </tr>\n",
              "  </tbody>\n",
              "</table>\n",
              "</div>"
            ],
            "text/plain": [
              "              total_sales\n",
              "genre                    \n",
              "Puzzle                 28\n",
              "Strategy               71\n",
              "Simulation             80\n",
              "Platform               85\n",
              "Fighting              109\n",
              "Racing                115\n",
              "Misc                  192\n",
              "Shooter               235\n",
              "Sports                268\n",
              "Adventure             302\n",
              "Role-Playing          370\n",
              "Action               1031"
            ]
          },
          "execution_count": 80,
          "metadata": {},
          "output_type": "execute_result"
        }
      ],
      "source": [
        "# Distribución por número de juegos en función a los géneros\n",
        "games_genre_dist =  new_ice.pivot_table(index='genre', values='total_sales', aggfunc='count').sort_values(by='total_sales')\n",
        "games_genre_dist"
      ]
    },
    {
      "cell_type": "code",
      "execution_count": null,
      "metadata": {
        "scrolled": true,
        "id": "CAeBnmGmVjmm",
        "outputId": "2bcaaf72-7daf-4533-dc49-f36aace82560"
      },
      "outputs": [
        {
          "data": {
            "image/png": "[encoded data removed]",
            "text/plain": [
              "<Figure size 432x288 with 1 Axes>"
            ]
          },
          "metadata": {
            "needs_background": "light"
          },
          "output_type": "display_data"
        }
      ],
      "source": [
        "# Visualizamos los datos\n",
        "games_genre_dist.plot(kind='bar', grid=True)\n",
        "plt.xlabel('géneros')\n",
        "plt.ylabel('Número de juegos')\n",
        "plt.title('Cantidad de juegos en función a los Géneros')\n",
        "plt.show()"
      ]
    },
    {
      "cell_type": "markdown",
      "metadata": {
        "id": "EeUOn5kNVjmm"
      },
      "source": [
        " - Al observar ambos gráficos, podemos ver que la cantidad de juegos lanzados está en gran medida relacionada con las ventas totales. Es decir, mientras más juegos por plataforma, mayores son las ventas. Esto es evidente para 'Action'.\n",
        "\n",
        " - Por otro lado tenemos casos como el de 'Role-Playing' y 'Shooter'. Aunque existen más juegos del género 'Role-Playing', el género 'shooter' ha logrado generar al rededor de 100 millones más, debido a que posiblemente los juegos de 'shooter' son más caros.\n",
        "\n",
        " En resumen, mientras más juegos haya en una plataforma, más millones genera. Sin embargo, también hay generos con juegos más caros."
      ]
    },
    {
      "cell_type": "markdown",
      "metadata": {
        "id": "D3sM9MSUVjmn"
      },
      "source": [
        "# Creamos un perfil de usuario para cada región"
      ]
    },
    {
      "cell_type": "markdown",
      "metadata": {
        "id": "VudlkQnOVjmn"
      },
      "source": [
        "Para cada región (NA, EU, JP) determinaremos:\n",
        " - Las cinco plataformas principales. Describiremos las variaciones en sus cuotas de mercado de una región a otra.\n",
        " - Los cinco géneros principales. Explicaremos la diferencia.\n",
        " - Si las clasificaciones de ESRB afectan a las ventas en regiones individuales."
      ]
    },
    {
      "cell_type": "markdown",
      "metadata": {
        "id": "4NElLMOCVjmn"
      },
      "source": [
        "### Comenzaremos determinando las cinco plataformas principales para cada región y describiremos las variaciones en sus cuotas de mercado de una región a otra.\n"
      ]
    },
    {
      "cell_type": "code",
      "execution_count": null,
      "metadata": {
        "scrolled": true,
        "id": "fq3fDsHdVjmo",
        "outputId": "6423601b-d855-4acf-8ed7-db516ca5cf77"
      },
      "outputs": [
        {
          "name": "stdout",
          "output_type": "stream",
          "text": [
            "Las cinco principales plataformas de JP son:           jp_sales\n",
            "platform          \n",
            "3DS          87.79\n",
            "PS3          35.29\n",
            "PSV          21.04\n",
            "PS4          15.96\n",
            "WiiU         13.01\n"
          ]
        }
      ],
      "source": [
        "# Determinamos las cinco plataformas principales de JP\n",
        "new_ice_jp = new_ice.pivot_table(index='platform', values='jp_sales', aggfunc='sum').sort_values(by='jp_sales', ascending=False).head(5)\n",
        "print(f\"Las cinco principales plataformas de JP son: {new_ice_jp}\")\n"
      ]
    },
    {
      "cell_type": "code",
      "execution_count": null,
      "metadata": {
        "id": "Qy7M6ZcaVjmo",
        "outputId": "3571fa1b-e38f-4f7f-bdd0-75ebe2d0cf48"
      },
      "outputs": [
        {
          "name": "stdout",
          "output_type": "stream",
          "text": [
            "Las cinco principales plataformas de EU son:           eu_sales\n",
            "platform          \n",
            "PS4         141.09\n",
            "PS3         106.86\n",
            "X360         74.52\n",
            "XOne         51.59\n",
            "3DS          42.64\n"
          ]
        }
      ],
      "source": [
        "# Determinamos las cinco plataformas principales de EU\n",
        "new_ice_eu = new_ice.pivot_table(index='platform', values='eu_sales', aggfunc='sum').sort_values(by='eu_sales', ascending=False).head(5)\n",
        "print(f\"Las cinco principales plataformas de EU son: {new_ice_eu}\")\n"
      ]
    },
    {
      "cell_type": "code",
      "execution_count": null,
      "metadata": {
        "id": "YU46BIA0Vjmp",
        "outputId": "4e45781a-896f-4ff6-cf4e-ad63b453e0af"
      },
      "outputs": [
        {
          "name": "stdout",
          "output_type": "stream",
          "text": [
            "Las cinco principales plataformas de NA son:           na_sales\n",
            "platform          \n",
            "X360        140.05\n",
            "PS4         108.74\n",
            "PS3         103.38\n",
            "XOne         93.12\n",
            "3DS          55.31\n"
          ]
        }
      ],
      "source": [
        "# Determinamos las cinco plataformas principales de NA\n",
        "new_ice_na = new_ice.pivot_table(index='platform', values='na_sales', aggfunc='sum').sort_values(by='na_sales', ascending=False).head(5)\n",
        "print(f\"Las cinco principales plataformas de NA son: {new_ice_na}\")\n"
      ]
    },
    {
      "cell_type": "markdown",
      "metadata": {
        "id": "3BkcyepZVjmp"
      },
      "source": [
        "A continuación visualizaremos un gráfico de barras para ver las diferencias de ventas de las 5 plataformas principales para cada región."
      ]
    },
    {
      "cell_type": "code",
      "execution_count": null,
      "metadata": {
        "id": "uK6sit7rVjmp",
        "outputId": "ca957701-68e2-43db-9480-8af26f8f0f69"
      },
      "outputs": [
        {
          "data": {
            "image/png": "[encoded data removed]",
            "text/plain": [
              "<Figure size 432x288 with 1 Axes>"
            ]
          },
          "metadata": {
            "needs_background": "light"
          },
          "output_type": "display_data"
        }
      ],
      "source": [
        "#Combinamos las tablas de las 3 regiones para graficar los datos por región de forma simultánea\n",
        "combined_data = pd.concat([new_ice_jp, new_ice_eu, new_ice_na], axis=1)\n",
        "\n",
        "# Graficamos\n",
        "combined_data.plot(kind='bar', grid=True)\n",
        "plt.title('Ventas por Plataforma y Región')\n",
        "plt.xlabel('Plataforma')\n",
        "plt.ylabel('Ventas')\n",
        "plt.show()\n"
      ]
    },
    {
      "cell_type": "markdown",
      "metadata": {
        "id": "VPMYB1rSVjmp"
      },
      "source": [
        "Lo primero que pudimos observar aquí al graficar las ventas por plataformas y región, es que algunas consolas varían entre regiones. Además podemos ver una clara diferencia de ventas entre las regiones:"
      ]
    },
    {
      "cell_type": "markdown",
      "metadata": {
        "id": "s6yvuh_dVjmp"
      },
      "source": [
        " - 1. **JP**: las cinco plataformas más populares en japón son: **PSV, PS3, WiiU, 3DS y PS4**. Por otra parte sus ventas son mucho menores que en las otras dos regiones. En japón la plataforma 3DS es la que más vende.\n",
        " - 2. **EU**:  las cinco plataformas más populares en Unión Europea son: **3DS, X360, PS3, PS4 y XOne**. Sus ventas por plataformas son bastante más superiores a las de JP y algunas logran superar los 300 millones.\n",
        " - 3. **NA**: las cinco plataformas más populares en Norteamérica son: **3DS, PS4, PS3, X360 y XOne**."
      ]
    },
    {
      "cell_type": "markdown",
      "metadata": {
        "id": "nkl38LGoVjmp"
      },
      "source": [
        "Es probable que las diferencias de ventas por región se deban a su número de población, factores económicos y sociales."
      ]
    },
    {
      "cell_type": "markdown",
      "metadata": {
        "id": "x_8dNA7qVjmq"
      },
      "source": [
        "### Ahora veremos los cinco géneros principales por región."
      ]
    },
    {
      "cell_type": "code",
      "execution_count": null,
      "metadata": {
        "scrolled": true,
        "id": "iRUvFtNeVjmq",
        "outputId": "2b47769a-d7e6-4db3-d6a2-a3607c5649f9"
      },
      "outputs": [
        {
          "name": "stdout",
          "output_type": "stream",
          "text": [
            "Los cinco géneros principales de JP son:               jp_sales\n",
            "genre                 \n",
            "Role-Playing     65.44\n",
            "Action           52.80\n",
            "Misc             12.86\n",
            "Simulation       10.41\n",
            "Fighting          9.44\n"
          ]
        }
      ],
      "source": [
        "# Determinamos los cinco géneros principales de JP\n",
        "new_ice_jp_gen = new_ice.pivot_table(index='genre', values='jp_sales', aggfunc='sum').sort_values(by='jp_sales', ascending=False).head(5)\n",
        "print(f\"Los cinco géneros principales de JP son: {new_ice_jp_gen}\")\n"
      ]
    },
    {
      "cell_type": "code",
      "execution_count": null,
      "metadata": {
        "scrolled": true,
        "id": "iCGwodddVjmr",
        "outputId": "e98fcaa1-3596-46d6-ba04-4a911e3b4531"
      },
      "outputs": [
        {
          "name": "stdout",
          "output_type": "stream",
          "text": [
            "Los cinco géneros principales de EU son:               eu_sales\n",
            "genre                 \n",
            "Action          159.34\n",
            "Shooter         113.47\n",
            "Sports           69.09\n",
            "Role-Playing     48.53\n",
            "Racing           27.29\n"
          ]
        }
      ],
      "source": [
        "# Determinamos los cinco géneros principales de EU\n",
        "new_ice_eu_gen = new_ice.pivot_table(index='genre', values='eu_sales', aggfunc='sum').sort_values(by='eu_sales', ascending=False).head(5)\n",
        "print(f\"Los cinco géneros principales de EU son: {new_ice_eu_gen}\")\n"
      ]
    },
    {
      "cell_type": "code",
      "execution_count": null,
      "metadata": {
        "id": "gI6aQHy8Vjmr",
        "outputId": "b9190368-e950-44b1-9bce-6b44caa8f7d3"
      },
      "outputs": [
        {
          "name": "stdout",
          "output_type": "stream",
          "text": [
            "Los cinco géneros principales de NA son:               na_sales\n",
            "genre                 \n",
            "Action          177.84\n",
            "Shooter         144.77\n",
            "Sports           81.53\n",
            "Role-Playing     64.00\n",
            "Misc             38.19\n"
          ]
        }
      ],
      "source": [
        "# Determinamos los cinco géneros principales de NA\n",
        "new_ice_na_gen = new_ice.pivot_table(index='genre', values='na_sales', aggfunc='sum').sort_values(by='na_sales', ascending=False).head(5)\n",
        "print(f\"Los cinco géneros principales de NA son: {new_ice_na_gen}\")"
      ]
    },
    {
      "cell_type": "markdown",
      "metadata": {
        "id": "xIhlavNeVjmr"
      },
      "source": [
        "A continuación visualizaremos un gráfico de barras para ver las diferencias de ventas de los 5 géneros principales para cada región."
      ]
    },
    {
      "cell_type": "code",
      "execution_count": null,
      "metadata": {
        "id": "Z8IO7up7Vjmr",
        "outputId": "129e9f4a-e8a1-4bc0-9d8f-cfd1e6013702"
      },
      "outputs": [
        {
          "data": {
            "image/png": "[encoded data removed]",
            "text/plain": [
              "<Figure size 432x288 with 1 Axes>"
            ]
          },
          "metadata": {
            "needs_background": "light"
          },
          "output_type": "display_data"
        }
      ],
      "source": [
        "#Combinamos las tablas de las 3 regiones para graficar los datos por región de forma simultánea\n",
        "combined_data2 = pd.concat([new_ice_jp_gen, new_ice_eu_gen, new_ice_na_gen], axis=1)\n",
        "\n",
        "# Graficamos\n",
        "combined_data2.plot(kind='bar', grid=True)\n",
        "plt.title('Ventas por Género y Región')\n",
        "plt.xlabel('Plataforma')\n",
        "plt.ylabel('Ventas')\n",
        "plt.show()"
      ]
    },
    {
      "cell_type": "markdown",
      "metadata": {
        "id": "gFyVZQAdVjmr"
      },
      "source": [
        "En este caso las plataformas también varían entre las regiones. Por otro lado, las 3 regiones comparten las plataformas: 'Action', 'Sports' y 'Misc'."
      ]
    },
    {
      "cell_type": "markdown",
      "metadata": {
        "id": "erHolgl6Vjmr"
      },
      "source": [
        " - 1. **JP**: los cinco géneros más populares en japón son: **Role_playing, Action, Simulation, Misc y Fighting**. Por otra parte el género más popular es Japón es **Role_Playin**.\n",
        " - 2. **EU**:  los cinco géneros más populares en Unión Europea son: **Action, Sports, Role_Playing, Shooter y Racing**. Su género preferido es **Action**.\n",
        " - 3. **NA**: los cinco géneros más populares en Norteamérica son: **Action, Sports, Misc, Shooter y Role-Playing**. El gnénero más popular en esta región es **Action**."
      ]
    },
    {
      "cell_type": "markdown",
      "metadata": {
        "id": "I6dTJSqcVjms"
      },
      "source": [
        "En este caso en todas las regiones se comparten los géneros populares **Action, Role-Playimng**, los demás tienden a variar."
      ]
    },
    {
      "cell_type": "markdown",
      "metadata": {
        "id": "c6KRYLoYVjms"
      },
      "source": [
        "### Ahora veremos si las clasificaciones de ESRB afectan a las ventas"
      ]
    },
    {
      "cell_type": "code",
      "execution_count": null,
      "metadata": {
        "scrolled": true,
        "id": "_S-YMXYNVjms",
        "outputId": "417a2205-a206-4d95-c8f6-ba48b3c2b906"
      },
      "outputs": [
        {
          "name": "stdout",
          "output_type": "stream",
          "text": [
            "Ventas en función a rating en JP:         jp_sales\n",
            "rating          \n",
            "T         108.70\n",
            "E          53.40\n",
            "M          22.29\n",
            "E10+        8.19\n"
          ]
        }
      ],
      "source": [
        "# Total de ventas en función al rating\n",
        "new_ice_jp_rating = new_ice.pivot_table(index='rating', values='jp_sales', aggfunc='sum').sort_values(by='jp_sales', ascending=False)\n",
        "print(f\"Ventas en función a rating en JP: {new_ice_jp_rating}\")"
      ]
    },
    {
      "cell_type": "code",
      "execution_count": null,
      "metadata": {
        "id": "Ib0yIwxwVjms",
        "outputId": "6cd6d0d9-5d5c-4fa7-b6c6-3931d71b9d07"
      },
      "outputs": [
        {
          "name": "stdout",
          "output_type": "stream",
          "text": [
            "Ventas en función a rating en EU:         eu_sales\n",
            "rating          \n",
            "M         211.19\n",
            "E         144.98\n",
            "T          95.28\n",
            "E10+       55.37\n"
          ]
        }
      ],
      "source": [
        "# Total de ventas en función al rating\n",
        "new_ice_eu_rating = new_ice.pivot_table(index='rating', values='eu_sales', aggfunc='sum').sort_values(by='eu_sales', ascending=False)\n",
        "print(f\"Ventas en función a rating en EU: {new_ice_eu_rating}\")"
      ]
    },
    {
      "cell_type": "code",
      "execution_count": null,
      "metadata": {
        "scrolled": true,
        "id": "B7HAAm-RVjms",
        "outputId": "0b204a99-1430-445e-b263-db7554bb16f5"
      },
      "outputs": [
        {
          "name": "stdout",
          "output_type": "stream",
          "text": [
            "Ventas en función a rating en NA:         na_sales\n",
            "rating          \n",
            "M         251.43\n",
            "E         141.52\n",
            "T         122.32\n",
            "E10+       75.70\n"
          ]
        }
      ],
      "source": [
        "# Total de ventas en función al rating\n",
        "new_ice_na_rating = new_ice.pivot_table(index='rating', values='na_sales', aggfunc='sum').sort_values(by='na_sales', ascending=False)\n",
        "print(f\"Ventas en función a rating en NA: {new_ice_na_rating}\")"
      ]
    },
    {
      "cell_type": "code",
      "execution_count": null,
      "metadata": {
        "id": "-3BGHCG7Vjms",
        "outputId": "21def51a-542a-470f-e431-d26ca4aaafef"
      },
      "outputs": [
        {
          "data": {
            "image/png": "[encoded data removed]",
            "text/plain": [
              "<Figure size 432x288 with 1 Axes>"
            ]
          },
          "metadata": {
            "needs_background": "light"
          },
          "output_type": "display_data"
        }
      ],
      "source": [
        "#Combinamos las tablas de las 3 regiones para graficar los datos por región de forma simultánea\n",
        "combined_data3 = pd.concat([new_ice_jp_rating, new_ice_eu_rating, new_ice_na_rating], axis=1)\n",
        "\n",
        "# Graficamos\n",
        "combined_data3.plot(kind='bar', grid=True)\n",
        "plt.title('Ventas por Rating y Región')\n",
        "plt.xlabel('Plataforma')\n",
        "plt.ylabel('Ventas')\n",
        "plt.show()"
      ]
    },
    {
      "cell_type": "markdown",
      "metadata": {
        "id": "UCRlLh52Vjms"
      },
      "source": [
        "Al observar el gráfico, el comportamiento de rating para NA y EU es bastante similar. En JP predominan juegos con el rating T. Por otra parte, en las tres regiones los juegos con los ratings más populares son **T, E y M**. De este modo podemos ver que la clasificación incide en la venta de los juegos, entre otros factores."
      ]
    },
    {
      "cell_type": "code",
      "execution_count": null,
      "metadata": {
        "id": "sV1167QvVjmt",
        "outputId": "32deefcb-7e3f-4bb4-b2a6-c03036e25dd5"
      },
      "outputs": [
        {
          "data": {
            "text/plain": [
              "array(['PS3', 'X360', 'PS4', '3DS', 'DS', 'XOne', 'WiiU', 'Wii', 'PC',\n",
              "       'PSV', 'PSP'], dtype=object)"
            ]
          },
          "execution_count": 94,
          "metadata": {},
          "output_type": "execute_result"
        }
      ],
      "source": [
        "new_ice.platform.unique()"
      ]
    },
    {
      "cell_type": "markdown",
      "metadata": {
        "id": "gC4AdPtUVjmt"
      },
      "source": [
        "# Probamos las siguientes hipótesis:\n",
        " -  1.Las calificaciones promedio de los usuarios para las plataformas Xbox One y PC son las mismas.\n",
        " -  2.Las calificaciones promedio de los usuarios para los géneros de Acción y Deportes son diferentes."
      ]
    },
    {
      "cell_type": "markdown",
      "metadata": {
        "id": "4oYNA3qQVjmt"
      },
      "source": [
        "Primero que nada, quitaremos los 'nan' de la columna **user_score** para no tener problemas al correr los T-Test."
      ]
    },
    {
      "cell_type": "code",
      "execution_count": null,
      "metadata": {
        "scrolled": true,
        "id": "2gTDm39iVjmt"
      },
      "outputs": [],
      "source": [
        "# Quitamos los valores nulos de 'user_score'\n",
        "ice = ice.dropna()"
      ]
    },
    {
      "cell_type": "code",
      "execution_count": null,
      "metadata": {
        "id": "nJeG7HcYVjmu"
      },
      "outputs": [],
      "source": [
        "# Filtramos la tabla por los años seleccionados\n",
        "test_ice = ice[ice['year_of_release'] > 2011]"
      ]
    },
    {
      "cell_type": "markdown",
      "metadata": {
        "id": "vg9M2pwnVjmu"
      },
      "source": [
        "## Prueba 1"
      ]
    },
    {
      "cell_type": "markdown",
      "metadata": {
        "id": "QIN2PXgLVjmu"
      },
      "source": [
        "Comenzaremos probando la siguiente hipotesis : **\"Las calificaciones promedio de los usuarios para las plataformas Xbox One y PC son las mismas\"**. Para esto utilizaremos una prueba de hipótesis de dos poblaciones y de dos colas, ya que buscaremos diferencias; estableciendo la hipotesis nula y alternativa como:\n",
        "\n",
        " - H0: Las calificaciones promedio de los usuarios para las plataformas Xbox One y PC son las mismas.\n",
        " - H1: Las calificaciones promedio de los usuarios para las plataformas Xbox One y PC son diferentes."
      ]
    },
    {
      "cell_type": "code",
      "execution_count": null,
      "metadata": {
        "id": "kd8A30_4Vjmu"
      },
      "outputs": [],
      "source": [
        "# Primero crearemos dos tablas alternativas con las plataformas mencionadas\n",
        "platform_pc = test_ice[test_ice['platform']=='PC']\n",
        "platform_xone = test_ice[test_ice['platform']=='XOne']"
      ]
    },
    {
      "cell_type": "code",
      "execution_count": null,
      "metadata": {
        "id": "rq0RAjGlVjmu",
        "outputId": "b0a86e02-6f67-4d9c-8801-4c976dbdfef7"
      },
      "outputs": [
        {
          "name": "stdout",
          "output_type": "stream",
          "text": [
            "La varianza de 'platform_pc' es: 2.6741565100878666\n",
            "La varianza de 'platform_xone' es: 1.7855118457300279\n"
          ]
        }
      ],
      "source": [
        "# Revisamos las varianzas de ambas tablas\n",
        "print(f\"La varianza de 'platform_pc' es: {np.var(platform_pc['user_score'])}\")\n",
        "print(f\"La varianza de 'platform_xone' es: {np.var(platform_xone['user_score'])}\")"
      ]
    },
    {
      "cell_type": "code",
      "execution_count": null,
      "metadata": {
        "scrolled": false,
        "id": "gfBpeUx_Vjmu",
        "outputId": "ab3c0424-3d43-4c43-c470-568c1a11ec2d"
      },
      "outputs": [
        {
          "name": "stdout",
          "output_type": "stream",
          "text": [
            "p-value: 0.5926561176517491\n",
            "No rechazamos la hipótesis nula\n"
          ]
        }
      ],
      "source": [
        "# Probamos las hipótesis\n",
        "\n",
        "# Dejamos el parámetro 'equal_var' en 'False' debido a la variabilidad de las varianzas\n",
        "results_1 = ttest_ind(\n",
        "    platform_pc['user_score'],\n",
        "    platform_xone['user_score'],\n",
        "    equal_var = False\n",
        ")\n",
        "# Establecemos el valor alfa\n",
        "alpha = 0.05\n",
        "\n",
        "print('p-value:', results_1.pvalue)\n",
        "\n",
        "if results_1.pvalue < alpha:\n",
        "     print(\"Rechazamos la hipótesis nula\")\n",
        "else:\n",
        "    print(\"No rechazamos la hipótesis nula\")"
      ]
    },
    {
      "cell_type": "markdown",
      "metadata": {
        "id": "IBYBTDTFVjmu"
      },
      "source": [
        "En este caso el P-value es bastante mayor a Alpha. De este modo **tenemos la suficiente evidencia para no rechazar la hipotesis nula**.\n"
      ]
    },
    {
      "cell_type": "markdown",
      "metadata": {
        "id": "QKwM3w4LVjmv"
      },
      "source": [
        "## Prueba 2"
      ]
    },
    {
      "cell_type": "markdown",
      "metadata": {
        "id": "0ZpHI_OvVjmv"
      },
      "source": [
        "Continuamos con la segunda prueba, donde intentaremos probar la siguiente hipotesis: **\"Las calificaciones promedio de los usuarios para los géneros de Acción y Deportes son diferentes\"**. Para esto, nuevamente,  utilizaremos una prueba de hipótesis de dos poblaciones y de dos colas, ya que buscaremos diferencias; estableciendo la hipotesis nula y alternativa como:\n",
        "\n",
        " - H0: Las calificaciones promedio de los usuarios para los géneros de Acción y Deportes son las mismas.\n",
        " - H1: Las calificaciones promedio de los usuarios para los géneros de Acción y Deportes son diferentes."
      ]
    },
    {
      "cell_type": "code",
      "execution_count": null,
      "metadata": {
        "id": "Rw5SJpVTVjmv"
      },
      "outputs": [],
      "source": [
        "# Creamos dos tablas alternativas con los valores de ambas consolas\n",
        "genre_action = test_ice[test_ice['genre']=='Action']\n",
        "genre_sports = test_ice[test_ice['genre']=='Sports']"
      ]
    },
    {
      "cell_type": "code",
      "execution_count": null,
      "metadata": {
        "scrolled": true,
        "id": "SY1YZLm0Vjmv",
        "outputId": "2200e65f-cb6b-4da3-b452-a85c8ea92bc5"
      },
      "outputs": [
        {
          "name": "stdout",
          "output_type": "stream",
          "text": [
            "La varianza de 'genre_action' es: 1.7476152584876543\n",
            "La varianza de 'genre_sports' es: 1.9718042351994367\n"
          ]
        }
      ],
      "source": [
        "# Revisamos las varianzas de ambas tablas\n",
        "print(f\"La varianza de 'genre_action' es: {np.var(genre_action['user_score'])}\")\n",
        "print(f\"La varianza de 'genre_sports' es: {np.var(genre_sports['user_score'])}\")"
      ]
    },
    {
      "cell_type": "code",
      "execution_count": null,
      "metadata": {
        "id": "2LoxozecVjmv",
        "outputId": "6cc747ec-82f6-4a08-886f-81cc39a679e7"
      },
      "outputs": [
        {
          "name": "stdout",
          "output_type": "stream",
          "text": [
            "p-value: 5.858072645452818e-14\n",
            "Rechazamos la hipótesis nula\n"
          ]
        }
      ],
      "source": [
        "# Probamos las hipótesis\n",
        "\n",
        "# Dejamos el parámetro 'equal_var' en 'False' debido a la variabilidad de las varianzas\n",
        "results_1 = ttest_ind(\n",
        "    genre_action['user_score'],\n",
        "    genre_sports['user_score'],\n",
        "    equal_var = False\n",
        ")\n",
        "# Establecemos el valor alfa\n",
        "alpha = 0.05\n",
        "\n",
        "print('p-value:', results_1.pvalue)\n",
        "\n",
        "if results_1.pvalue < alpha:\n",
        "     print(\"Rechazamos la hipótesis nula\")\n",
        "else:\n",
        "    print(\"No rechazamos la hipótesis nula\")"
      ]
    },
    {
      "cell_type": "markdown",
      "metadata": {
        "id": "IGzd6DPWVjmv"
      },
      "source": [
        "En este caso el P-value es bastante menor al valor Alpha, de este modo **tenemos evidencia suficiente para rechazar la hipotesis nula**."
      ]
    },
    {
      "cell_type": "markdown",
      "metadata": {
        "id": "rsZ98NrhVjmv"
      },
      "source": [
        "# Conclusión general\n",
        "\n",
        "A modo más general, pudimos ver que hay parámetros que afectan en las ventas de los juegos, tales como la clasificación, el género y la plataforma. En este caso, pudimos ver que los juegos con los géneros más vendidos son 'Shooter' y 'Action'. Por otra parte las plataformas que venden más juegos a partir del 2012 son: PS4, PS3, X360, 3DS y XOne. Y que los juegos con los ratings más populares son T, E y M. Es decir, estos son los parámetros que tienen los juegos con mayores ventas.\n",
        "\n",
        "**Esta información es de suma importancia ya que nos permitirá invertir o realizar una asesoría de inversión para el año 2017**.\n",
        "\n",
        "De forma más detallada, al realizar el estudio pudimos concluir que:\n",
        " - 1. En los años de la década de los 80 la cantidad de juegos lanzados al mercado no superaba los 100 títulos. A partir de los años de la década de los 90 el mercado de los juegos comienza a crecer. En los años 2008 y 2009 es donde más se lanzan juegos, superando los 1.400 títulos por año. Luego los lanzamientos descienden abruptamente en el año 2012, y siguen descendiendo gradualmente hasta el año 2016.\n",
        " - 2. La PS2 es la consola que ha generado mayores ganancias, seguida de la X360 y la PS3. Mientras que las ganancias de las consolas más antiguas son mucho menores.\n",
        " - 3. Las consolas tardan alrededor de 10 años en desaparecer. Además, las consolas no se lanzan una después de otra, es decir, para el momento que una desaparece ya hay otra ganando popularidad. Por ejemplo, cuando las ventas de la PS estaban bajando, la popularidad de la PS2 subía. Esto se debe a que hay varias empresas desarrollando consolas.\n",
        " - 4. Las plataformas potencialmente rentables son las de nintendo, con consolas como WiiU y 3DS, las consolas de la línea Play Station, tales como PS3, PS4, PS5, etc, y la línea Xbox, como XOne y X360, ya que son consolas que se van actualizando con los años y son líderes en ventas.\n",
        " - 5. Para la plataforma PS4, las puntuaciones de los críticos tienen una mayor importancia para los consumidores al momento de adquirir juegos.\n",
        " - 6. Al observar el comportamiento de venta de los mismos juegos en diferentes consolas, pudimos ver que la plataforma PC es la que menos juegos vende. En el caso de PS3 y X360 pudimos notar que algunos juegos se venden más en PS3 que en X360, y viceversa. Esto está muy sujeto a los gustos de los consumidores por las plataforma, entre otros factores.\n",
        " - 7. Los géneros más rentables son 'Shooter' y 'Action', superando los 300 millones en ventas y en el caso de 'Action' superando los 400 millones.\n",
        " - 8. Los géneros 'Puzzle', 'Strategy' y 'Adventure' son los menos rentables.\n",
        "\n",
        " - 9. Mientras más juegos haya en una plataforma, más millones genera. Sin embargo, también hay generos donde el número de juegos es menor pero estos generan más ingresos al ser más caros.\n",
        "  \n",
        " - 10. Sobre las cinco plataformas más populares por región:\n",
        "\n",
        "  - 1. **JP**: las cinco plataformas más populares en japón son: **3DS, PS3, P4, WiiU y PSV**. Por otra parte sus ventas son mucho menores que en las otras dos regiones.\n",
        "  - 2. **EU**:  las cinco plataformas más populares en Unión Europea son: **PS4, PS3, 3DS, XOne y X360**. Sus ventas por plataformas son bastante más superiores a las de JP.\n",
        "  - 3. **NA**: las cinco plataformas más populares en Norteamérica son: **3DS, PS4, PS3, X360 y XOne.**.\n",
        "\n",
        "- 11. Los cinco géneros principales por región:\n",
        "  - 1. JP: los cinco géneros más populares en japón son: Role_playing, Action, Simulation, Misc y Fighting. Por otra parte el género más popular es Japón es Role_Playin.\n",
        "  - 2. EU: los cinco géneros más populares en Unión Europea son: Action, Sports, Role_Playing, Shooter y Racing. Su género preferido es Action.\n",
        "  - 3. NA: los cinco géneros más populares en Norteamérica son: Action, Sports, Misc, Shooter y Role-Playing. El gnénero más popular en esta región es Action.\n",
        "  \n",
        "  \n",
        "- 12. El comportamiento de rating para NA y EU es bastante similar, en estos preminan las clasificaciones M y E. En JP predominan juegos con el rating T. Por otra parte, en las tres regiones los juegos con los ratings más populares son T, E y M. De este modo podemos ver que la clasificación incide en la venta de los juegos, entre otros factores.\n",
        "\n",
        "- 13. Para el caso de las pruebas de hipotesis:\n",
        "  - 1. Para \"Las calificaciones promedio de los usuarios para las plataformas Xbox One y PC son las mismas\", el P-value fue bastante mayor a Alpha. De este modo **tuvimos la suficiente evidencia para no rechazar la hipotesis nula**.\n",
        "  - 2. Para \"Las calificaciones promedio de los usuarios para los géneros de Acción y Deportes son diferentes\", en este caso el P-value era bastante menor al valor Alpha, de este modo **tuvimos evidencia suficiente para rechazar la hipotesis nula**."
      ]
    },
    {
      "cell_type": "markdown",
      "metadata": {
        "id": "QrQh3FAbVjmw"
      },
      "source": [
        "<div class=\"alert alert-danger\">\n",
        "<h2> Comentarios del revisor </h2>\n",
        "\n",
        "Muy buen trabajo en general con todo el proyecto, un error importante es validar las fechas que vas a tomar para el análisis ya que no se filtró, recuerda que para hacer un pronóstico del 2017 normalmente debe acotar el análisis y no tomar años tan viejos como 1999, normalmente se toma entre 3 a 5 años para hacer el análisis. Los demás errores son menores y no tendrás problemas con la corrección.\n",
        "    \n",
        "Saludos!\n",
        "\n",
        "</div>"
      ]
    },
    {
      "cell_type": "markdown",
      "metadata": {
        "id": "O-YULUszVjmw"
      },
      "source": [
        "<div class=\"alert alert-info\">\n",
        "<h2> Comentarios del estudiante</h2>\n",
        "Tiene bastante sentido. Para hacer el pronóstico del 2017 esta vez filtré la tabla 'new_ice' tomando los años del 2012 en adelante. Y también actualicé la información del proyecto desde esta parte.\n",
        "Gracias por los comentarios y su revision! :)\n",
        "</div>"
      ]
    },
    {
      "cell_type": "markdown",
      "metadata": {
        "id": "dr7V1WIsVjmw"
      },
      "source": [
        "<div class=\"alert alert-success\">\n",
        "<h2> Comentarios del revisor V2</h2>\n",
        "\n",
        "Muy buen trabajo Jesus con todo el proyecto y las correcciones, felicitaciones por cubrir todos los puntos del proyecto. Sigue así!\n",
        "\n",
        "Saludos!\n",
        "</div>"
      ]
    },
    {
      "cell_type": "code",
      "execution_count": null,
      "metadata": {
        "id": "d6lNkMoYVjmw"
      },
      "outputs": [],
      "source": []
    }
  ],
  "metadata": {
    "kernelspec": {
      "display_name": "Python 3 (ipykernel)",
      "language": "python",
      "name": "python3"
    },
    "language_info": {
      "codemirror_mode": {
        "name": "ipython",
        "version": 3
      },
      "file_extension": ".py",
      "mimetype": "text/x-python",
      "name": "python",
      "nbconvert_exporter": "python",
      "pygments_lexer": "ipython3",
      "version": "3.9.5"
    },
    "toc": {
      "base_numbering": 1,
      "nav_menu": {},
      "number_sections": true,
      "sideBar": true,
      "skip_h1_title": false,
      "title_cell": "Table of Contents",
      "title_sidebar": "Contents",
      "toc_cell": false,
      "toc_position": {
        "height": "341.333px",
        "left": "370px",
        "top": "110.229px",
        "width": "165px"
      },
      "toc_section_display": true,
      "toc_window_display": true
    },
    "colab": {
      "provenance": []
    }
  },
  "nbformat": 4,
  "nbformat_minor": 0
}